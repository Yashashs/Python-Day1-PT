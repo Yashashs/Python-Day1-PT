{
  "nbformat": 4,
  "nbformat_minor": 0,
  "metadata": {
    "colab": {
      "provenance": []
    },
    "kernelspec": {
      "name": "python3",
      "display_name": "Python 3"
    },
    "language_info": {
      "name": "python"
    }
  },
  "cells": [
    {
      "cell_type": "code",
      "execution_count": null,
      "metadata": {
        "colab": {
          "base_uri": "https://localhost:8080/"
        },
        "id": "ssz9XKuGinmC",
        "outputId": "8cc93376-8f26-4dff-9e01-bd68f2076ddf"
      },
      "outputs": [
        {
          "output_type": "stream",
          "name": "stdout",
          "text": [
            "100\n",
            "222\n",
            "333\n"
          ]
        }
      ],
      "source": [
        "#local varaibles\n",
        "class Test:\n",
        "  def func1(self):\n",
        "    a=100\n",
        "    print(a)\n",
        "\n",
        "  def func2(self):\n",
        "    b=222\n",
        "    a=333\n",
        "    print(b)\n",
        "    print(a)\n",
        "\n",
        "t=Test()\n",
        "t.func1()\n",
        "t.func2()"
      ]
    },
    {
      "cell_type": "code",
      "source": [
        "class Student:\n",
        "  def __init__(self):\n",
        "    self.__name=\"\"\n",
        "\n",
        "  def setName(self,name):\n",
        "    self.__name=name\n",
        "\n",
        "  def getName(self):\n",
        "    return self.__name\n",
        "\n",
        "if __name__ == '__main__':\n",
        "  obj=Student()\n",
        "  obj.setName(\"Ashish\")\n",
        "  print(obj.getName())"
      ],
      "metadata": {
        "colab": {
          "base_uri": "https://localhost:8080/"
        },
        "id": "4tvT4Hd2jgqt",
        "outputId": "a76b54dd-0648-4eed-9387-b2d8ea70dd3c"
      },
      "execution_count": null,
      "outputs": [
        {
          "output_type": "stream",
          "name": "stdout",
          "text": [
            "Ashish\n"
          ]
        }
      ]
    },
    {
      "cell_type": "code",
      "source": [
        "class Student:\n",
        "  def setName(self,name):\n",
        "    self.name=name\n",
        "\n",
        "  def getName(self):\n",
        "    return self.name\n",
        "\n",
        "  def setPercentage(self,percentage):\n",
        "    self.percentage=percentage\n",
        "\n",
        "  def getPercentage(self):\n",
        "    return self.percentage\n",
        "\n",
        "n=int(input(\"enter no of student\"))\n",
        "s=Student()\n",
        "for i in range(n):\n",
        "  name=input(\"Enter Student name :\")\n",
        "  s.setName(name)\n",
        "  percentage=int(input(\"Enter student percentage\"))\n",
        "  s.setPercentage(percentage)\n",
        "  print(\"Hi\",s.getName(),\"Your percentage is :\",s.getPercentage())\n",
        "  print()"
      ],
      "metadata": {
        "colab": {
          "base_uri": "https://localhost:8080/"
        },
        "id": "se8O24kClGdN",
        "outputId": "8202e120-845b-4d2f-9548-8525a7d38a7a"
      },
      "execution_count": null,
      "outputs": [
        {
          "output_type": "stream",
          "name": "stdout",
          "text": [
            "enter no of student2\n",
            "Enter Student name :Yashas \n",
            "Enter student percentage89\n",
            "Hi Yashas  Your percentage is : 89\n",
            "\n",
            "Enter Student name :Devanshu\n",
            "Enter student percentage88\n",
            "Hi Devanshu Your percentage is : 88\n",
            "\n"
          ]
        }
      ]
    },
    {
      "cell_type": "code",
      "source": [
        "#Passing members of one class to another class\n",
        "class Employee:\n",
        "  def __init__(self,no,name,sal):\n",
        "    self.eno=no\n",
        "    self.ename=name\n",
        "    self.esal=sal\n",
        "\n",
        "  def showDetails(self):\n",
        "    print(\"Employee no :\",self.eno)\n",
        "    print(\"Employee name :\",self.ename)\n",
        "    print(\"Employee Salary :\",self.esal)\n",
        "\n",
        "class Test:\n",
        "  def updates(Employee):\n",
        "    Employee.esal=Employee.esal+8000\n",
        "    Employee.showDetails()\n",
        "\n",
        "e=Employee(101,\"Ashish\",20000)\n",
        "print(e.esal)\n",
        "e.showDetails()\n",
        "Test.updates(e)"
      ],
      "metadata": {
        "colab": {
          "base_uri": "https://localhost:8080/"
        },
        "id": "Etak3SzAmpn_",
        "outputId": "db8486e3-eb6d-462e-cea8-698c8d122d05"
      },
      "execution_count": null,
      "outputs": [
        {
          "output_type": "stream",
          "name": "stdout",
          "text": [
            "20000\n",
            "Employee no : 101\n",
            "Employee name : Ashish\n",
            "Employee Salary : 20000\n",
            "Employee no : 101\n",
            "Employee name : Ashish\n",
            "Employee Salary : 28000\n"
          ]
        }
      ]
    },
    {
      "cell_type": "code",
      "source": [
        "class NMIMS:\n",
        "  def __init__(self):\n",
        "    print(\"NMIMS Default constructor\")\n",
        "\n",
        "  class CE:\n",
        "    def __init__(self):\n",
        "      print(\"NMIMS-CE Default constructor\")\n",
        "\n",
        "    def techFest(self):\n",
        "      print(\"techfest\")\n",
        "\n",
        "obj1=NMIMS()\n",
        "obj2=obj1.CE()\n",
        "obj2.techFest()\n",
        "\n",
        "obj3=NMIMS().CE()\n",
        "obj3.techFest()\n",
        "\n",
        "NMIMS().CE().techFest()"
      ],
      "metadata": {
        "colab": {
          "base_uri": "https://localhost:8080/"
        },
        "id": "i4v1B8Y1o2Uz",
        "outputId": "0fa3cc0d-0243-4cde-9618-0df9411f1400"
      },
      "execution_count": null,
      "outputs": [
        {
          "output_type": "stream",
          "name": "stdout",
          "text": [
            "NMIMS Default constructor\n",
            "NMIMS-CE Default constructor\n",
            "techfest\n",
            "NMIMS Default constructor\n",
            "NMIMS-CE Default constructor\n",
            "techfest\n",
            "NMIMS Default constructor\n",
            "NMIMS-CE Default constructor\n",
            "techfest\n"
          ]
        }
      ]
    },
    {
      "cell_type": "code",
      "source": [
        "#Destructor\n",
        "class Time:\n",
        "  def __init__(self):\n",
        "    print(\"Constructor is called\")\n",
        "\n",
        "  def __del__(self):\n",
        "    print(\"Destructor is called\")\n",
        "\n",
        "t=Time()\n",
        "t=None\n",
        "print(\"Application is ended\")"
      ],
      "metadata": {
        "colab": {
          "base_uri": "https://localhost:8080/"
        },
        "id": "DBbD7ghMsiXG",
        "outputId": "58a49fa0-1903-467f-fb9c-15530e3769d5"
      },
      "execution_count": null,
      "outputs": [
        {
          "output_type": "stream",
          "name": "stdout",
          "text": [
            "Constructor is called\n",
            "Destructor is called\n",
            "Application is ended\n"
          ]
        }
      ]
    },
    {
      "cell_type": "code",
      "source": [
        "#Constructor Overloading\n",
        "class Test:\n",
        "  def __init__(self):\n",
        "    print(\"No arguement\")\n",
        "\n",
        "  def __init__(self,a):\n",
        "    print(\"One arguement method\",a)\n",
        "\n",
        "  def __init__(self,a,b):\n",
        "    print(\"One arguement method\",(a+b))\n",
        "\n",
        "#t=Test()\n",
        "#t=Test(10)\n",
        "t=Test(10,22)\n",
        "\n",
        "# PYTHON DOES NOT SUPPORT OVERLOADING"
      ],
      "metadata": {
        "colab": {
          "base_uri": "https://localhost:8080/"
        },
        "id": "VYiQik_ivKry",
        "outputId": "97e5c1bb-4f39-4b03-8dca-f9c9706e5f70"
      },
      "execution_count": null,
      "outputs": [
        {
          "output_type": "stream",
          "name": "stdout",
          "text": [
            "One arguement method 32\n"
          ]
        }
      ]
    },
    {
      "cell_type": "code",
      "source": [
        "# constructor overloading using defalut arguement\n",
        "class Test:\n",
        "  def __init__(self,a=None,b=None,c=None):\n",
        "    print(\"Constructor with 0,1,2,3 arguements\",a,b,c)\n",
        "\n",
        "t=Test()\n",
        "t=Test(10)\n",
        "t=Test(10,22)\n",
        "t=Test(10,22,33)"
      ],
      "metadata": {
        "colab": {
          "base_uri": "https://localhost:8080/"
        },
        "id": "r0hyVQafwpn8",
        "outputId": "e3909fc9-3838-4187-ce14-3366a9e74f48"
      },
      "execution_count": null,
      "outputs": [
        {
          "output_type": "stream",
          "name": "stdout",
          "text": [
            "Constructor with 0,1,2,3 arguements None None None\n",
            "Constructor with 0,1,2,3 arguements 10 None None\n",
            "Constructor with 0,1,2,3 arguements 10 22 None\n",
            "Constructor with 0,1,2,3 arguements 10 22 33\n"
          ]
        }
      ]
    },
    {
      "cell_type": "code",
      "source": [
        "# Inheritance\n",
        "\n",
        "class A:\n",
        "  def showA(self):\n",
        "    print(\"I am in class A\")\n",
        "\n",
        "class B(A):\n",
        "  def showB(self):\n",
        "    print(\"I am in class B\")\n",
        "\n",
        "obj1=A()\n",
        "obj1.showA()\n",
        "obj1=B()\n",
        "obj1.showA()\n",
        "obj1.showB()"
      ],
      "metadata": {
        "colab": {
          "base_uri": "https://localhost:8080/"
        },
        "id": "YJfN06Khy8We",
        "outputId": "c0b33120-b2e0-4db9-a391-0f7c41dc6de3"
      },
      "execution_count": null,
      "outputs": [
        {
          "output_type": "stream",
          "name": "stdout",
          "text": [
            "I am in class A\n",
            "I am in class A\n",
            "I am in class B\n"
          ]
        }
      ]
    },
    {
      "cell_type": "code",
      "source": [
        "class A:\n",
        "  def showA(self):\n",
        "    print(\"I am in class A\")\n",
        "\n",
        "class B(A):\n",
        "  def showB(self):\n",
        "    print(\"I am in class B\")\n",
        "\n",
        "class C(B):\n",
        "  def showC(self):\n",
        "    print(\"I am in class C\")\n",
        "\n",
        "obj1=C()\n",
        "obj1.showA()\n",
        "obj1.showB()\n",
        "obj1.showC()"
      ],
      "metadata": {
        "colab": {
          "base_uri": "https://localhost:8080/"
        },
        "id": "urZU6VRzz68w",
        "outputId": "1d7cadab-30dd-4106-b796-775541b18d5a"
      },
      "execution_count": null,
      "outputs": [
        {
          "output_type": "stream",
          "name": "stdout",
          "text": [
            "I am in class A\n",
            "I am in class B\n",
            "I am in class C\n"
          ]
        }
      ]
    },
    {
      "cell_type": "code",
      "source": [
        "class A:\n",
        "  def showA(self):\n",
        "    print(\"I am in class A\")\n",
        "\n",
        "class B:\n",
        "  def showB(self):\n",
        "    print(\"I am in class B\")\n",
        "\n",
        "class C:\n",
        "  def showC(self):\n",
        "    print(\"I am in class C\")\n",
        "\n",
        "class D(A,B,C):\n",
        "  def showD(self):\n",
        "    print(\"I am in class D\")\n",
        "\n",
        "obj1=D()\n",
        "obj1.showA()\n",
        "obj1.showB()\n",
        "obj1.showC()\n",
        "obj1.showD()"
      ],
      "metadata": {
        "colab": {
          "base_uri": "https://localhost:8080/"
        },
        "id": "C4pmag-j0V3J",
        "outputId": "37e1a384-285a-4f05-9331-59a627a31918"
      },
      "execution_count": null,
      "outputs": [
        {
          "output_type": "stream",
          "name": "stdout",
          "text": [
            "I am in class A\n",
            "I am in class B\n",
            "I am in class C\n",
            "I am in class D\n"
          ]
        }
      ]
    },
    {
      "cell_type": "code",
      "source": [
        "class A:\n",
        "  def showA(self):\n",
        "    print(\"I am in class A\")\n",
        "\n",
        "class B(A):\n",
        "  def showB(self):\n",
        "    print(\"I am in class B\")\n",
        "\n",
        "class C(A):\n",
        "  def showC(self):\n",
        "    print(\"I am in class C\")\n",
        "\n",
        "class D(A):\n",
        "  def showD(self):\n",
        "    print(\"I am in class D\")\n",
        "\n",
        "obj1=B()\n",
        "obj2=C()\n",
        "obj3=D()\n",
        "obj1.showA()\n",
        "obj1.showB()\n",
        "obj2.showA()\n",
        "obj2.showC()\n",
        "obj3.showA()\n",
        "obj3.showD()"
      ],
      "metadata": {
        "colab": {
          "base_uri": "https://localhost:8080/"
        },
        "id": "7JQU0rqO0vPE",
        "outputId": "0a39ad20-7b3d-429d-bb05-f4ed74694250"
      },
      "execution_count": null,
      "outputs": [
        {
          "output_type": "stream",
          "name": "stdout",
          "text": [
            "I am in class A\n",
            "I am in class B\n",
            "I am in class A\n",
            "I am in class C\n",
            "I am in class A\n",
            "I am in class D\n"
          ]
        }
      ]
    },
    {
      "cell_type": "code",
      "source": [
        "#if child class is not satisfied with parent function then we can write that  in child class and we can rewrite that\n",
        "#Method overriding\n",
        "class Parent:\n",
        "  def __init__(self):\n",
        "    print(\"cash , gold\")\n",
        "\n",
        "  def bike(self):\n",
        "    print(\"Splender+\")\n",
        "\n",
        "class Child(Parent):\n",
        "  def bike(self):\n",
        "    print(\"HB\")\n",
        "\n",
        "obj=Child()\n",
        "obj.bike()"
      ],
      "metadata": {
        "colab": {
          "base_uri": "https://localhost:8080/"
        },
        "id": "QqFBDLxI26wE",
        "outputId": "3fc2193d-0074-4c8e-f4b2-4357c2b1064e"
      },
      "execution_count": null,
      "outputs": [
        {
          "output_type": "stream",
          "name": "stdout",
          "text": [
            "cash , gold\n",
            "HB\n"
          ]
        }
      ]
    },
    {
      "cell_type": "code",
      "source": [
        "#Abstraction\n",
        "from abc import ABC, abstractmethod\n",
        "class Test(ABC):\n",
        "  @abstractmethod\n",
        "  def m1(self):\n",
        "    pass\n",
        "\n",
        "  @abstractmethod\n",
        "  def m2(self):\n",
        "    pass\n",
        "\n",
        "class MyPython(Test):\n",
        "  def m1(self):\n",
        "    print(\"m1 method implementation\")\n",
        "\n",
        "  def m2(self):\n",
        "    print(\"m2 methid implementation\")\n",
        "\n",
        "m=MyPython()\n",
        "m.m1()\n",
        "m.m2()"
      ],
      "metadata": {
        "colab": {
          "base_uri": "https://localhost:8080/"
        },
        "id": "a5P2Tf6U4QYV",
        "outputId": "8fd44d80-5ae9-4348-8b64-9eb5a1f94d4d"
      },
      "execution_count": null,
      "outputs": [
        {
          "output_type": "stream",
          "name": "stdout",
          "text": [
            "m1 method implementation\n",
            "m2 methid implementation\n"
          ]
        }
      ]
    },
    {
      "cell_type": "code",
      "source": [
        "from abc import ABC, abstractmethod\n",
        "class Test(ABC):\n",
        "  @abstractmethod\n",
        "  def m1(self):\n",
        "    pass\n",
        "\n",
        "  def m2(self):\n",
        "    print(\"m2 method implemented\")\n",
        "\n",
        "class MyPython(Test):\n",
        "  @abstractmethod\n",
        "  def m1(self):\n",
        "    pass\n",
        "\n",
        "class Child(MyPython):\n",
        "  def m1(self):\n",
        "    print(\"m1 method implemented\")\n",
        "\n",
        "m=Child()\n",
        "m.m1()\n",
        "m.m2()"
      ],
      "metadata": {
        "colab": {
          "base_uri": "https://localhost:8080/"
        },
        "id": "WK80kQ2P6j9X",
        "outputId": "6683caa1-c31f-4fa7-ed36-3f9fabb25431"
      },
      "execution_count": null,
      "outputs": [
        {
          "output_type": "stream",
          "name": "stdout",
          "text": [
            "m1 method implemented\n",
            "m2 method implemented\n"
          ]
        }
      ]
    },
    {
      "cell_type": "code",
      "source": [
        "#Encapsulation\n",
        "class Test1:\n",
        "  def __init__(self):\n",
        "    self.a=100\n",
        "    self._a=200\n",
        "    self.__a=300\n",
        "\n",
        "  def show1(self):\n",
        "    print(self.a)\n",
        "    print(self._a)\n",
        "    print(self.__a)\n",
        "\n",
        "class Test2(Test1):\n",
        "  def show2(self):\n",
        "    print(self.a)\n",
        "    print(self._a)\n",
        "    print(self._Test1__a)\n",
        "\n",
        "obj=Test2()\n",
        "obj.show2()"
      ],
      "metadata": {
        "colab": {
          "base_uri": "https://localhost:8080/"
        },
        "id": "vDa-Lo2f8lEZ",
        "outputId": "e3fc40c8-a5ad-40ed-f266-8a83ed4d76c5"
      },
      "execution_count": null,
      "outputs": [
        {
          "output_type": "stream",
          "name": "stdout",
          "text": [
            "100\n",
            "200\n",
            "300\n"
          ]
        }
      ]
    },
    {
      "cell_type": "code",
      "source": [],
      "metadata": {
        "id": "Hr-rVHMqyTv4"
      },
      "execution_count": null,
      "outputs": []
    },
    {
      "cell_type": "code",
      "source": [
        "class Employee:\n",
        "  def __init__(self,sal,name):\n",
        "    self.sal=sal\n",
        "    self.name=name\n",
        "\n",
        "  def work(self):\n",
        "    print(\"Working on chatbot model\")\n",
        "\n",
        "  def getsalary(self):\n",
        "    return self.sal\n",
        "\n",
        "class HRManager(Employee):\n",
        "  def __init__(self):\n",
        "    super().__init__(50000,\"yashas\")\n",
        "\n",
        "  def addEmployee(self,name):\n",
        "    self.name=name\n",
        "\n",
        "  def showEmployee(self):\n",
        "    print(\"new Employee added\",self.name)\n",
        "\n",
        "obj1=HRManager()\n",
        "obj1.addEmployee(\"devanshu\")\n",
        "print(obj1.getsalary())\n",
        "obj1.showEmployee()"
      ],
      "metadata": {
        "colab": {
          "base_uri": "https://localhost:8080/"
        },
        "id": "rV6dmaU--_2B",
        "outputId": "950744ff-36da-4fa9-a8aa-c3b9dd97353f"
      },
      "execution_count": 39,
      "outputs": [
        {
          "output_type": "stream",
          "name": "stdout",
          "text": [
            "50000\n",
            "new Employee added devanshu\n"
          ]
        }
      ]
    },
    {
      "cell_type": "code",
      "source": [
        "# multiplication using the number itself\n",
        "s=[1,2,3,4]\n",
        "a=[]\n",
        "mul=1\n",
        "for i in range(0,len(s)):\n",
        "  for j in range(0,len(s)):\n",
        "    if s[j]!=s[i]:\n",
        "      mul=mul*s[j]\n",
        "    else:\n",
        "      pass\n",
        "  a.append(mul)\n",
        "  mul=1\n",
        "print(a)"
      ],
      "metadata": {
        "colab": {
          "base_uri": "https://localhost:8080/"
        },
        "id": "T31MpXaYYXbp",
        "outputId": "5a2019fa-274d-4c50-ce60-e55260b6972c"
      },
      "execution_count": null,
      "outputs": [
        {
          "output_type": "stream",
          "name": "stdout",
          "text": [
            "[24, 12, 8, 6]\n"
          ]
        }
      ]
    },
    {
      "cell_type": "code",
      "source": [
        "from abc import ABC, abstractmethod\n",
        "\n",
        "class BankAccount:\n",
        "\n",
        "  def __init__(self):\n",
        "    self.name=\"\"\n",
        "    self.acnummber=\"\"\n",
        "    self.balance=0\n",
        "\n",
        "  @abstractmethod\n",
        "  def deposit(self,amt):\n",
        "    pass\n",
        "\n",
        "  @abstractmethod\n",
        "  def withdraw(self,amt):\n",
        "    pass\n",
        "\n",
        "  def inputCustData(self):\n",
        "    self.name=input(\"Enter the name\")\n",
        "    self.acnumber=int(input(\"enter the account number\"))\n",
        "\n",
        "  def showCustData(self):\n",
        "    print(\"The name of customer is: \",self.name)\n",
        "    print(\"The account number of customer is: \",self.acnumber)\n",
        "\n",
        "\n",
        "class SavingsAccount(BankAccount):\n",
        "    def deposit(self,amt):\n",
        "      self.balance=self.balance+amt\n",
        "      print(\"The total amount in bank is :\",self.balance)\n",
        "\n",
        "    def withdraw(self,amt):\n",
        "      if amt>self.balance:\n",
        "        print(\"The bank account does not have that much limit \")\n",
        "      else:\n",
        "        self.balance=self.balance-amt\n",
        "        print(\"The amount after withdrawal is \",self.balance)\n",
        "\n",
        "\n",
        "class CurrentAccount(BankAccount):\n",
        "    def deposit(self,amt):\n",
        "      self.balance=self.balance+amt\n",
        "      print(\"The total amount in bank is :\",self.balance)\n",
        "\n",
        "    def withdraw(self,amt):\n",
        "      if amt>self.balance:\n",
        "        print(\"The bank account does not have that much limit \")\n",
        "      else:\n",
        "        self.balance=self.balance-amt\n",
        "        print(\"The amount after withdrawal is \",self.balance)\n",
        "\n",
        "s=SavingsAccount()\n",
        "s.inputCustData()\n",
        "s.showCustData()\n",
        "s.deposit(5000)\n",
        "s.withdraw(2000)\n",
        "s.showCustData()\n",
        "\n",
        "c=CurrentAccount()\n",
        "c.inputCustData()\n",
        "c.showCustData()\n",
        "c.deposit(5000)\n",
        "c.withdraw(3000)\n",
        "c.showCustData()"
      ],
      "metadata": {
        "id": "-B_sFrGEaqgd",
        "colab": {
          "base_uri": "https://localhost:8080/"
        },
        "outputId": "53c76bb5-ddbe-4ddd-f8e6-942767dc1a59"
      },
      "execution_count": 31,
      "outputs": [
        {
          "output_type": "stream",
          "name": "stdout",
          "text": [
            "Enter the nameyashas\n",
            "enter the account number5588\n",
            "The name of customer is:  yashas\n",
            "The account number of customer is:  5588\n",
            "The total amount in bank is : 5000\n",
            "The amount after withdrawal is  3000\n",
            "The name of customer is:  yashas\n",
            "The account number of customer is:  5588\n",
            "Enter the namedevanshu\n",
            "enter the account number7788\n",
            "The name of customer is:  devanshu\n",
            "The account number of customer is:  7788\n",
            "The total amount in bank is : 5000\n",
            "The amount after withdrawal is  2000\n",
            "The name of customer is:  devanshu\n",
            "The account number of customer is:  7788\n"
          ]
        }
      ]
    },
    {
      "cell_type": "code",
      "source": [
        "s=[1,1,0,1,1,1,0,1,1,1,1]\n",
        "a=[]\n",
        "n=0\n",
        "for i in range(0,len(s)):\n",
        "  if s[i]==1:\n",
        "    n=n+1\n",
        "  else:\n",
        "    n=0\n",
        "print(n)"
      ],
      "metadata": {
        "colab": {
          "base_uri": "https://localhost:8080/"
        },
        "id": "d9SPL5kvpm1g",
        "outputId": "1d6d2ebd-a24b-445c-91e8-f65f8a08547f"
      },
      "execution_count": null,
      "outputs": [
        {
          "output_type": "stream",
          "name": "stdout",
          "text": [
            "4\n"
          ]
        }
      ]
    },
    {
      "cell_type": "code",
      "source": [
        "#automorphic\n",
        "n=int(input(\"enter number\"))\n",
        "s=n**(2)\n",
        "print(s)\n",
        "c=0\n",
        "i=n\n",
        "t=0\n",
        "j=n\n",
        "while(j>0):\n",
        "  j=j//10\n",
        "  t=t+1\n",
        "print(t)\n",
        "i=n\n",
        "while(i>0):\n",
        "  if i%10==s%10:\n",
        "    c=c+1\n",
        "    i=i//10\n",
        "    s=s//10\n",
        "  else:\n",
        "    print(\"not automorphic number\")\n",
        "    break\n",
        "if(t==c):\n",
        "  print(\"automorphic\")"
      ],
      "metadata": {
        "colab": {
          "base_uri": "https://localhost:8080/"
        },
        "id": "mCw8a8lf4vHf",
        "outputId": "f0aa758c-6597-41ac-da24-5e6428a04a19"
      },
      "execution_count": 18,
      "outputs": [
        {
          "output_type": "stream",
          "name": "stdout",
          "text": [
            "enter number5\n",
            "25\n",
            "1\n",
            "automorphic\n"
          ]
        }
      ]
    },
    {
      "cell_type": "code",
      "source": [
        "#chunks\n",
        "n=int(input(\"Enter the number of chunks\"))\n",
        "l=[1,2,3,4,5,6,7,8]\n",
        "s=[]\n",
        "for i in range(0,len(l),n):\n",
        "  s.append(l[i:i+n])\n",
        "print(s)"
      ],
      "metadata": {
        "colab": {
          "base_uri": "https://localhost:8080/"
        },
        "id": "VArJhDsBdYzT",
        "outputId": "2b48f5a6-af7d-48bc-bd9b-f167cd282037"
      },
      "execution_count": 24,
      "outputs": [
        {
          "output_type": "stream",
          "name": "stdout",
          "text": [
            "Enter the number of chunks3\n",
            "[[1, 2, 3], [4, 5, 6], [7, 8]]\n"
          ]
        }
      ]
    }
  ]
}