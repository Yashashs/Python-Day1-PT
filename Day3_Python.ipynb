{
  "cells": [
    {
      "cell_type": "code",
      "execution_count": 26,
      "metadata": {
        "colab": {
          "base_uri": "https://localhost:8080/"
        },
        "id": "iJ8_ocWNOcbi",
        "outputId": "8c9cf845-dc91-4842-ea7a-fb4400bf05a8"
      },
      "outputs": [
        {
          "output_type": "stream",
          "name": "stdout",
          "text": [
            "[1, 2, 3, 4, 5, 6, 7, 8, 10]\n",
            "Missing number 9\n"
          ]
        }
      ],
      "source": [
        "#Cisco\n",
        "A=[6,1,2,8,3,4,7,10,5]\n",
        "A_S=sorted(A)\n",
        "print(A_S)\n",
        "for i in range(len(A_S)):\n",
        "  if i+1!=A_S[i]:\n",
        "    print(\"Missing number\",i+1)\n",
        "    break"
      ]
    },
    {
      "cell_type": "code",
      "source": [
        "def show():\n",
        "  print(\"Hello\")\n",
        "\n",
        "if __name__ == '__main__':\n",
        "  show()"
      ],
      "metadata": {
        "colab": {
          "base_uri": "https://localhost:8080/"
        },
        "id": "RGkaHXP3W1CY",
        "outputId": "ecf4f621-2cfe-43cc-da37-fbfec32c7c28"
      },
      "execution_count": null,
      "outputs": [
        {
          "output_type": "stream",
          "name": "stdout",
          "text": [
            "Hello\n"
          ]
        }
      ]
    },
    {
      "cell_type": "code",
      "source": [
        "def add():\n",
        "  a=int(input(\"Enter value of a:\"))\n",
        "  b=int(input(\"Enter value of b:\"))\n",
        "  res=a+b\n",
        "  print(\"Addition is \",res)\n",
        "add()"
      ],
      "metadata": {
        "colab": {
          "base_uri": "https://localhost:8080/"
        },
        "id": "2ELU7No8YhtN",
        "outputId": "e4b99aab-3406-423c-8c1e-f385958519ad"
      },
      "execution_count": null,
      "outputs": [
        {
          "output_type": "stream",
          "name": "stdout",
          "text": [
            "Enter value of a:5\n",
            "Enter value of b:7\n",
            "Addition is  12\n"
          ]
        }
      ]
    },
    {
      "cell_type": "code",
      "source": [
        "def add(a,b):\n",
        "  res=a+b;\n",
        "  print(\"Addition is\",res)\n",
        "\n",
        "if __name__ == '__main__':\n",
        "  a=int(input(\"Enter value of a: \"))\n",
        "  b=int(input(\"Enter value of b: \"))\n",
        "  add(a,b)"
      ],
      "metadata": {
        "colab": {
          "base_uri": "https://localhost:8080/"
        },
        "id": "xleaFnqCZTEg",
        "outputId": "ccf20ce0-a137-4d54-8707-9d85885c2f1d"
      },
      "execution_count": null,
      "outputs": [
        {
          "output_type": "stream",
          "name": "stdout",
          "text": [
            "Enter value of a: 5\n",
            "Enter value of b: 8\n",
            "Addition is 13\n"
          ]
        }
      ]
    },
    {
      "cell_type": "code",
      "source": [
        "def add(a,b):\n",
        "  res=a+b;\n",
        "  return res\n",
        "\n",
        "if __name__ == '__main__':\n",
        "  a=int(input(\"Enter value of a: \"))\n",
        "  b=int(input(\"Enter value of b: \"))\n",
        "  r=add(a,b)\n",
        "  print(\"Addition is\",r)"
      ],
      "metadata": {
        "colab": {
          "base_uri": "https://localhost:8080/"
        },
        "id": "txcbuLckaMYl",
        "outputId": "f4d9828a-2b59-4916-a24d-bc9c0a60f2b5"
      },
      "execution_count": null,
      "outputs": [
        {
          "output_type": "stream",
          "name": "stdout",
          "text": [
            "Enter value of a: 5\n",
            "Enter value of b: 10\n",
            "Addition is 15\n"
          ]
        }
      ]
    },
    {
      "cell_type": "code",
      "source": [
        "def add(a,b):\n",
        "  r1=a+b;\n",
        "  r2=a-b;\n",
        "  r3=a/b;\n",
        "  r4=a*b;\n",
        "  return r1,r2,r3,r4\n",
        "\n",
        "if __name__ == '__main__':\n",
        "  a=int(input(\"Enter value of a: \"))\n",
        "  b=int(input(\"Enter value of b: \"))\n",
        "  r1,r2,r3,r4=add(a,b)\n",
        "  print(\"Addition is\",r1)\n",
        "  print(\"Sub is\",r2)\n",
        "  print(\"Div is\",r3)\n",
        "  print(\"Mul is\",r4)"
      ],
      "metadata": {
        "colab": {
          "base_uri": "https://localhost:8080/"
        },
        "id": "nUkKY_mObPVD",
        "outputId": "47edb64d-9b44-4aea-fc1b-61e8f4aaa734"
      },
      "execution_count": null,
      "outputs": [
        {
          "output_type": "stream",
          "name": "stdout",
          "text": [
            "Enter value of a: 4\n",
            "Enter value of b: 2\n",
            "Addition is 6\n",
            "Sub is 2\n",
            "Div is 2.0\n",
            "Mul is 8\n"
          ]
        }
      ]
    },
    {
      "cell_type": "code",
      "source": [
        "#Variable length arguement\n",
        "def sum(*n):\n",
        "  total=0\n",
        "  for n1 in n:\n",
        "    total=total+n1\n",
        "  print(\"The Sum=\",total)\n",
        "\n",
        "sum(10)\n",
        "sum(10,20)\n",
        "sum(10,20,30,40)"
      ],
      "metadata": {
        "colab": {
          "base_uri": "https://localhost:8080/"
        },
        "id": "5-xC9B7LcNtU",
        "outputId": "4f37d573-e02e-4bd8-9702-b623ac9696dc"
      },
      "execution_count": null,
      "outputs": [
        {
          "output_type": "stream",
          "name": "stdout",
          "text": [
            "The Sum= 10\n",
            "The Sum= 30\n",
            "The Sum= 100\n"
          ]
        }
      ]
    },
    {
      "cell_type": "code",
      "source": [
        "#Find factorial of function using recurssion\n",
        "def factorial(n):\n",
        "  if n==0 or n==1:\n",
        "    return 1\n",
        "  else:\n",
        "    return n*factorial(n-1)\n",
        "\n",
        "\n",
        "n=int(input(\"Enter any value: \"))\n",
        "res=factorial(n)\n",
        "print(\"factorial is \",res)"
      ],
      "metadata": {
        "id": "4Utn5UE_eguD",
        "outputId": "dbd7b1bd-8117-4219-fd68-3ece1adb1408",
        "colab": {
          "base_uri": "https://localhost:8080/"
        }
      },
      "execution_count": null,
      "outputs": [
        {
          "output_type": "stream",
          "name": "stdout",
          "text": [
            "Enter any value: 3\n",
            "factorial is  6\n"
          ]
        }
      ]
    },
    {
      "cell_type": "code",
      "source": [
        "# multiplication using recurssion\n",
        "def mul(a,b):\n",
        "  if b==0:\n",
        "    return 0\n",
        "  elif b>0:\n",
        "    return a+mul(a,b-1)\n",
        "  else:\n",
        "    return -mul(a,-b)\n",
        "\n",
        "print(mul(2,-5))"
      ],
      "metadata": {
        "id": "mvrXs39oiNzB",
        "colab": {
          "base_uri": "https://localhost:8080/"
        },
        "outputId": "b9cfab8f-7cbc-44aa-c6b9-798c2c18ff5f"
      },
      "execution_count": 16,
      "outputs": [
        {
          "output_type": "stream",
          "name": "stdout",
          "text": [
            "-10\n"
          ]
        }
      ]
    },
    {
      "cell_type": "code",
      "source": [
        "#lambda function\n",
        "def square(n):\n",
        "  return n*n\n",
        "\n",
        "s=lambda n:n*n\n",
        "\n",
        "print(\"The square of 4 is :\",square(4))\n",
        "print(\"The square of 4 is :\",s(5))"
      ],
      "metadata": {
        "colab": {
          "base_uri": "https://localhost:8080/"
        },
        "id": "MIfuuyAniU_Q",
        "outputId": "96aa227d-4b9f-4fab-a998-763dd73897fa"
      },
      "execution_count": null,
      "outputs": [
        {
          "output_type": "stream",
          "name": "stdout",
          "text": [
            "The square of 4 is : 16\n",
            "The square of 4 is : 25\n"
          ]
        }
      ]
    },
    {
      "cell_type": "code",
      "source": [
        "def add(x,y):\n",
        "  return x+y\n",
        "\n",
        "s=lambda x,y: x+y\n",
        "print(\"The addition of 4,6 is :\",add(4,6))\n",
        "print(\"The addition of 4,6 is :\",s(4,6))"
      ],
      "metadata": {
        "colab": {
          "base_uri": "https://localhost:8080/"
        },
        "id": "yaTUJZa7jWkZ",
        "outputId": "e865fe2b-cfe4-45b8-ce1b-cf998b977d0e"
      },
      "execution_count": null,
      "outputs": [
        {
          "output_type": "stream",
          "name": "stdout",
          "text": [
            "The addition of 4,6 is : 10\n",
            "The square of 4,6 is : 10\n"
          ]
        }
      ]
    },
    {
      "cell_type": "code",
      "source": [
        "def max(x,y):\n",
        "  if x>y:\n",
        "    return x\n",
        "  else:\n",
        "    return y\n",
        "\n",
        "m=lambda x,y: x if x>y else y\n",
        "\n",
        "print(\"Max=\",max(44,55))\n",
        "print(\"Max=\",m(44,5))"
      ],
      "metadata": {
        "colab": {
          "base_uri": "https://localhost:8080/"
        },
        "id": "My47FNJej0-t",
        "outputId": "8599ca1b-abd6-4f90-e14b-a1aae7e7c2eb"
      },
      "execution_count": null,
      "outputs": [
        {
          "output_type": "stream",
          "name": "stdout",
          "text": [
            "Max= 55\n",
            "Max= 44\n"
          ]
        }
      ]
    },
    {
      "cell_type": "code",
      "source": [
        "import yashas\n",
        "yashas.add(20,30)\n",
        "yashas.sub(30,10)"
      ],
      "metadata": {
        "colab": {
          "base_uri": "https://localhost:8080/"
        },
        "id": "jOJR4v2vl8a1",
        "outputId": "78555e00-2724-479d-f49a-86648816eeeb"
      },
      "execution_count": null,
      "outputs": [
        {
          "output_type": "stream",
          "name": "stdout",
          "text": [
            "The addition is: 50\n",
            "The subtraction: 20\n"
          ]
        }
      ]
    },
    {
      "cell_type": "code",
      "source": [
        "#Intersection of two lists\n",
        "a=[1,2,2,1]\n",
        "b=[2,2]\n",
        "#a1=sorted(a)\n",
        "#b1=sorted(b)\n",
        "c=[]\n",
        "for i in range(len(a)):\n",
        "  for j in range(len(b)):\n",
        "    if a[i]==b[j]:\n",
        "      c.append(a[i])\n",
        "      break;\n",
        "print(c)"
      ],
      "metadata": {
        "colab": {
          "base_uri": "https://localhost:8080/"
        },
        "id": "lJBk9ykFrJ4b",
        "outputId": "ecafb1ad-1777-4fb5-e0ba-3b9b196d6e81"
      },
      "execution_count": null,
      "outputs": [
        {
          "output_type": "stream",
          "name": "stdout",
          "text": [
            "[2, 2]\n"
          ]
        }
      ]
    },
    {
      "cell_type": "code",
      "source": [
        "# Rotation\n",
        "arr=[5,1,2,3,4]\n",
        "k=2\n",
        "temp=4\n",
        "\n",
        "for x in range(k):\n",
        "  temp=arr[-1]\n",
        "  for i in range(len(arr)-1,-1,-1):\n",
        "    arr[i]=arr[i-1]\n",
        "  arr[0]=temp\n",
        "\n",
        "print(arr)\n"
      ],
      "metadata": {
        "colab": {
          "base_uri": "https://localhost:8080/"
        },
        "id": "-hIJ7oqduY8d",
        "outputId": "cb8a2061-3f5d-4143-b438-373bac44343b"
      },
      "execution_count": null,
      "outputs": [
        {
          "output_type": "stream",
          "name": "stdout",
          "text": [
            "[3, 4, 5, 1, 2]\n"
          ]
        }
      ]
    },
    {
      "cell_type": "code",
      "source": [
        "#Alternate numbers\n",
        "s=[-1,2,-3,4,5,-6]\n",
        "p=[]\n",
        "n=[]\n",
        "ne=[]\n",
        "for i in range(len(s)):\n",
        "  if(s[i]>0):\n",
        "    p.append(s[i])\n",
        "  else:\n",
        "    n.append(s[i])\n",
        "print(p)\n",
        "print(n)\n",
        "for i in range(0,len(p)):\n",
        "  ne.append(n[i])\n",
        "  ne.append(p[i])\n",
        "print(ne)"
      ],
      "metadata": {
        "colab": {
          "base_uri": "https://localhost:8080/"
        },
        "id": "ELI2NTVUFe8t",
        "outputId": "08d6ca3c-1701-4ad3-dc7e-b36c6f98340a"
      },
      "execution_count": null,
      "outputs": [
        {
          "output_type": "stream",
          "name": "stdout",
          "text": [
            "[2, 4, 5]\n",
            "[-1, -3, -6]\n",
            "[-1, 2, -3, 4, -6, 5]\n"
          ]
        }
      ]
    },
    {
      "cell_type": "code",
      "source": [
        "#Subarray\n",
        "s=[1,2,3,4,6,7,8,9,10]\n",
        "l=[]\n",
        "for i in range(0,len(s)):\n",
        "  if s[i]==i+1:\n",
        "    l.append(s[i])\n",
        "  else:\n",
        "    break\n",
        "print(l)"
      ],
      "metadata": {
        "colab": {
          "base_uri": "https://localhost:8080/"
        },
        "id": "WUjNqJ-7KFKD",
        "outputId": "77ec6fce-c99c-4250-9887-71d2aa3ce8cd"
      },
      "execution_count": null,
      "outputs": [
        {
          "output_type": "stream",
          "name": "stdout",
          "text": [
            "[1, 2, 3, 4]\n"
          ]
        }
      ]
    },
    {
      "cell_type": "code",
      "source": [
        "#Sum of series\n",
        "n=int(input(\"Enter the number n\"))\n",
        "x=int(input(\"Enter the number x\"))\n",
        "s=1\n",
        "for i in range(1,n+1):\n",
        "  s=s+(x**(i)/i)\n",
        "print(\"Sum\",s)"
      ],
      "metadata": {
        "colab": {
          "base_uri": "https://localhost:8080/"
        },
        "id": "bKnCP8HNMeD5",
        "outputId": "58d3a598-cf9f-4619-b9a9-2e3e9f851103"
      },
      "execution_count": null,
      "outputs": [
        {
          "output_type": "stream",
          "name": "stdout",
          "text": [
            "Enter the number n2\n",
            "Enter the number x2\n",
            "Sum 5.0\n"
          ]
        }
      ]
    },
    {
      "cell_type": "code",
      "source": [
        "#sum of factorial\n",
        "def fact(y):\n",
        "  if y==0 or y==1:\n",
        "    return 1\n",
        "  else:\n",
        "    return y*fact(y-1)\n",
        "\n",
        "n=int(input(\"Enter the number n\"))\n",
        "x=int(input(\"Enter the number x\"))\n",
        "s=1\n",
        "for i in range(1,n+1):\n",
        "  s=s+(x**(i)/fact(i))\n",
        "print(\"Sum\",s)"
      ],
      "metadata": {
        "colab": {
          "base_uri": "https://localhost:8080/"
        },
        "id": "BhMnEoaqOf7n",
        "outputId": "2a9d65e2-9af9-4f77-fc7a-7277d0fb6ec6"
      },
      "execution_count": null,
      "outputs": [
        {
          "output_type": "stream",
          "name": "stdout",
          "text": [
            "Enter the number n2\n",
            "Enter the number x2\n",
            "Sum 5.0\n"
          ]
        }
      ]
    },
    {
      "cell_type": "code",
      "source": [
        "#Find first missing positive number\n",
        "s=[3,4,-1,1]\n",
        "#s=[5,6,3,2,4,-1,1,-3]\n",
        "sn=[]\n",
        "sp=[]\n",
        "p=0\n",
        "n=0\n",
        "for i in range(0,len(s)):\n",
        "  if s[i]<0:\n",
        "    sn.append(s[i])\n",
        "  else:\n",
        "    sp.append(s[i])\n",
        "sp.sort()\n",
        "sn.sort()\n",
        "print(sp)\n",
        "print(sn)\n",
        "for i in range(0,len(sp)):\n",
        "  if i+1!=sp[i]:\n",
        "    p=p+1\n",
        "    break\n",
        "for j in range(-len(sn),-1,1):\n",
        "  if j!=sn[j]:\n",
        "    n=n+1\n",
        "    break\n",
        "if p>0:\n",
        "  print(\"Missing number \",i+1)\n",
        "if n>0:\n",
        "  print(\"Mising number \",j)"
      ],
      "metadata": {
        "colab": {
          "base_uri": "https://localhost:8080/"
        },
        "id": "nqOFeCDxJKrK",
        "outputId": "9f246f47-cc88-4661-8d04-035a791d2ce7"
      },
      "execution_count": 13,
      "outputs": [
        {
          "output_type": "stream",
          "name": "stdout",
          "text": [
            "[1, 3, 4]\n",
            "[-1]\n",
            "Missing number  2\n"
          ]
        }
      ]
    },
    {
      "cell_type": "code",
      "source": [
        "#Codechef\n",
        "A,B=map(int,input().split())\n",
        "ab=A-B\n",
        "if ab<0:\n",
        "    print(0)\n",
        "else:\n",
        "    print(ab)"
      ],
      "metadata": {
        "id": "CmnNtEGJWxW6"
      },
      "execution_count": null,
      "outputs": []
    },
    {
      "cell_type": "code",
      "source": [
        "#Codechef\n",
        "A,B=map(int,input().split())\n",
        "sum=0\n",
        "sum=((A*6)+B)\n",
        "print(sum)"
      ],
      "metadata": {
        "id": "LiB9rM5NYEIL"
      },
      "execution_count": null,
      "outputs": []
    },
    {
      "cell_type": "code",
      "source": [
        "#Codechef\n",
        "N=int(input())\n",
        "print(N)"
      ],
      "metadata": {
        "id": "bPZec0evYf4S"
      },
      "execution_count": null,
      "outputs": []
    },
    {
      "cell_type": "code",
      "source": [
        "N=int(input())\n",
        "if(N<12):\n",
        "    print(\"NO\")\n",
        "else:\n",
        "    print(\"YES\")"
      ],
      "metadata": {
        "id": "VQK8rUoSZw0-"
      },
      "execution_count": null,
      "outputs": []
    },
    {
      "cell_type": "code",
      "source": [
        "X=int(input())\n",
        "if(X==25):\n",
        "    print(\"CHRISTMAS\")\n",
        "else:\n",
        "    print(\"ORDINARY\")"
      ],
      "metadata": {
        "id": "aPcVeQWjamLn"
      },
      "execution_count": null,
      "outputs": []
    },
    {
      "cell_type": "code",
      "source": [
        "s=input()\n",
        "print(s[7])"
      ],
      "metadata": {
        "colab": {
          "base_uri": "https://localhost:8080/"
        },
        "id": "VYRNTgnLc34D",
        "outputId": "40ffed63-eb9d-4593-e036-5d231e8d90f7"
      },
      "execution_count": null,
      "outputs": [
        {
          "output_type": "stream",
          "name": "stdout",
          "text": [
            "proceeding\n",
            "i\n"
          ]
        }
      ]
    },
    {
      "cell_type": "code",
      "source": [
        "# cook your dish here\n",
        "N=int(input())\n",
        "if N>=1 and N<=8:\n",
        "    print(\"YES\")\n",
        "else:\n",
        "    print(\"NO\")"
      ],
      "metadata": {
        "id": "4QYh_JFonfOX"
      },
      "execution_count": null,
      "outputs": []
    },
    {
      "cell_type": "code",
      "source": [
        "# cook your dish here\n",
        "A,B=map(int,input().split())\n",
        "if B<=2*A:\n",
        "    print(\"METAL\")\n",
        "else:\n",
        "    print(\"PLASTIC\")"
      ],
      "metadata": {
        "id": "AzP_CQq_nrND"
      },
      "execution_count": null,
      "outputs": []
    },
    {
      "cell_type": "code",
      "source": [
        "# cook your dish here\n",
        "S,C=map(int,input().split())\n",
        "print(C)"
      ],
      "metadata": {
        "id": "245oo4VJnsvQ"
      },
      "execution_count": null,
      "outputs": []
    },
    {
      "cell_type": "code",
      "source": [
        "# cook your dish here\n",
        "N=int(input())\n",
        "if N==15:\n",
        "    print(\"Yes\")\n",
        "else:\n",
        "    print(\"No\")"
      ],
      "metadata": {
        "id": "d3JQerBXobnK"
      },
      "execution_count": null,
      "outputs": []
    }
  ],
  "metadata": {
    "colab": {
      "provenance": []
    },
    "kernelspec": {
      "display_name": "Python 3",
      "name": "python3"
    },
    "language_info": {
      "name": "python"
    }
  },
  "nbformat": 4,
  "nbformat_minor": 0
}