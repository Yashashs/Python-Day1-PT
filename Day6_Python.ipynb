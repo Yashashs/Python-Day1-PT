{
  "nbformat": 4,
  "nbformat_minor": 0,
  "metadata": {
    "colab": {
      "provenance": []
    },
    "kernelspec": {
      "name": "python3",
      "display_name": "Python 3"
    },
    "language_info": {
      "name": "python"
    }
  },
  "cells": [
    {
      "cell_type": "code",
      "execution_count": null,
      "metadata": {
        "colab": {
          "base_uri": "https://localhost:8080/"
        },
        "id": "El-AMTLUrbkh",
        "outputId": "440d39b9-a1d9-47e7-f729-2f889985a529"
      },
      "outputs": [
        {
          "name": "stdout",
          "output_type": "stream",
          "text": [
            "enter any number: 16\n"
          ]
        },
        {
          "output_type": "execute_result",
          "data": {
            "text/plain": [
              "True"
            ]
          },
          "metadata": {},
          "execution_count": 33
        }
      ],
      "source": [
        "#Power of 4\n",
        "def power():\n",
        "  n=int(input(\"enter any number: \"))\n",
        "  while(n>1):\n",
        "    if n%4!=0:\n",
        "      return False\n",
        "    n=n//4\n",
        "  if n==1:\n",
        "    return True\n",
        "power()"
      ]
    },
    {
      "cell_type": "code",
      "source": [
        "# Comparison of two arrays\n",
        "def cmp():\n",
        "  a=[1,2,5,4,0]\n",
        "  b=[2,4,5,0,1]\n",
        "  c=0\n",
        "  if len(a)==len(b):\n",
        "    for i in range(0,len(a)):\n",
        "      for j in range(0,len(b)):\n",
        "        if a[i]==b[j]:\n",
        "          c=c+1\n",
        "          break\n",
        "        else:\n",
        "          pass\n",
        "  else:\n",
        "    return False\n",
        "\n",
        "  if c==len(a):\n",
        "    return True\n",
        "  else:\n",
        "    return False\n",
        "print(cmp())"
      ],
      "metadata": {
        "colab": {
          "base_uri": "https://localhost:8080/"
        },
        "id": "e6omM33ntTGx",
        "outputId": "b7c68a9c-49c8-4214-ccb3-11378adcef0a"
      },
      "execution_count": null,
      "outputs": [
        {
          "output_type": "stream",
          "name": "stdout",
          "text": [
            "True\n"
          ]
        }
      ]
    },
    {
      "cell_type": "code",
      "source": [
        "# Majority\n",
        "def majority():\n",
        "  a=[3,3,4,2,4,4,2,4,4]\n",
        "  b=[]\n",
        "  z=[]\n",
        "  n=0\n",
        "  a.sort()\n",
        "  print(a)\n",
        "  for i in range(0,len(a)):\n",
        "    c=0\n",
        "    if a[i] not in b:\n",
        "      for j in range(0,len(a)):\n",
        "          if a[i]==a[j]:\n",
        "            c=c+1\n",
        "            b.append(a[i])\n",
        "      z.append(c)\n",
        "      print(\"count of \",a[i],\"is\",c)\n",
        "  print(b)\n",
        "  print(z)\n",
        "  print(\"Maximum no.of occurence of \",max(z),\"of\",a[i])\n",
        "majority()"
      ],
      "metadata": {
        "id": "nt453pNnt49G",
        "colab": {
          "base_uri": "https://localhost:8080/"
        },
        "outputId": "f0587a0e-ff58-4093-a584-d024f772987a"
      },
      "execution_count": null,
      "outputs": [
        {
          "output_type": "stream",
          "name": "stdout",
          "text": [
            "[2, 2, 3, 3, 4, 4, 4, 4, 4]\n",
            "count of  2 is 2\n",
            "count of  3 is 2\n",
            "count of  4 is 5\n",
            "[2, 2, 3, 3, 4, 4, 4, 4, 4]\n",
            "[2, 2, 5]\n",
            "Maximum no.of occurence of  5 of 4\n"
          ]
        }
      ]
    },
    {
      "cell_type": "code",
      "source": [
        "# append zeros to last\n",
        "def zero():\n",
        "  s=[0,1,0,3,12]\n",
        "  for i in range(0,len(s)):\n",
        "    if s[i]==0:\n",
        "      del s[i]\n",
        "      s.append(0)\n",
        "    else:\n",
        "      pass\n",
        "  print(s)\n",
        "zero()"
      ],
      "metadata": {
        "colab": {
          "base_uri": "https://localhost:8080/"
        },
        "id": "GoFwicLBy1zE",
        "outputId": "da34a71d-72ac-43c2-b113-54d59a0318dc"
      },
      "execution_count": null,
      "outputs": [
        {
          "output_type": "stream",
          "name": "stdout",
          "text": [
            "[1, 3, 12, 0, 0]\n"
          ]
        }
      ]
    },
    {
      "cell_type": "code",
      "source": [
        "#intersection of 3 lists\n",
        "def intersection():\n",
        "  a=[1,2,3]\n",
        "  b=[2,3,4]\n",
        "  c=[3,4,5]\n",
        "  for i in range(0,len(a)):\n",
        "    for j in range(0,len(b)):\n",
        "      if a[i]==b[j]:\n",
        "        for k in range(0,len(c)):\n",
        "          if b[j]==c[k]:\n",
        "            print(c[k])\n",
        "          else:\n",
        "            pass\n",
        "      else:\n",
        "        pass\n",
        "\n",
        "intersection()"
      ],
      "metadata": {
        "colab": {
          "base_uri": "https://localhost:8080/"
        },
        "id": "vBuo25DZ1a1y",
        "outputId": "43dccd1a-d54b-45a3-a1c9-f747bb0a878f"
      },
      "execution_count": null,
      "outputs": [
        {
          "output_type": "stream",
          "name": "stdout",
          "text": [
            "3\n"
          ]
        }
      ]
    },
    {
      "cell_type": "code",
      "source": [
        "#Problem description Rat problem\n",
        "def solve(r,unit,arr):\n",
        "  if arr is None:\n",
        "      return -1\n",
        "  total_food_needed = r * unit\n",
        "  total_food_available = sum(arr)\n",
        "  if total_food_available < total_food_needed:\n",
        "      return 0\n",
        "  current_food = 0\n",
        "  total_houses = 0\n",
        "  for food in arr:\n",
        "      current_food += food\n",
        "      total_houses += 1\n",
        "      if current_food >= total_food_needed:\n",
        "          return total_houses\n",
        "  return -1\n",
        "r = 7\n",
        "unit = 2\n",
        "arr = [2, 8, 3, 5, 7, 4, 1, 2]\n",
        "result = solve(r, uni+t, arr)\n",
        "result\n"
      ],
      "metadata": {
        "id": "5acVuDDr5RZU",
        "colab": {
          "base_uri": "https://localhost:8080/"
        },
        "outputId": "33ffc93b-3334-4202-f187-cb3502281896"
      },
      "execution_count": null,
      "outputs": [
        {
          "output_type": "execute_result",
          "data": {
            "text/plain": [
              "4"
            ]
          },
          "metadata": {},
          "execution_count": 56
        }
      ]
    },
    {
      "cell_type": "code",
      "source": [
        "# Sum of distance of Adjacent elements in array\n",
        "def adjacent():\n",
        "  n=int(input(\"Enter the number of elements\"))\n",
        "  a=[]\n",
        "  s=0\n",
        "  for i in range(0,n):\n",
        "    a.append(int(input()))\n",
        "  for i in range(0,len(a)-1):\n",
        "    if a[i+1]>a[i]:\n",
        "      s=s+(a[i+1]-a[i])\n",
        "    else:\n",
        "      s=s+(a[i]-a[i+1])\n",
        "  print(\"SUM is\",s)\n",
        "adjacent()"
      ],
      "metadata": {
        "colab": {
          "base_uri": "https://localhost:8080/"
        },
        "id": "oSdEkIl4AgRx",
        "outputId": "ff47332b-6e3b-4b55-cdd4-cf629c975204"
      },
      "execution_count": null,
      "outputs": [
        {
          "output_type": "stream",
          "name": "stdout",
          "text": [
            "Enter the number of elements5\n",
            "10\n",
            "11\n",
            "7\n",
            "12\n",
            "14\n",
            "SUM is 12\n"
          ]
        }
      ]
    },
    {
      "cell_type": "code",
      "source": [
        "# Security\n",
        "def security():\n",
        "  n=int(input(\"Enter the number\"))\n",
        "  c=0\n",
        "  i=n\n",
        "  a=[]\n",
        "  while(i>0):\n",
        "    i=i//10\n",
        "    c=c+1\n",
        "  print(\"Count\",c)\n",
        "\n",
        "  i=n\n",
        "  while(i>0):\n",
        "    a.append(i%10)\n",
        "    i=i//10\n",
        "  print(a)\n",
        "  r=0\n",
        "  s=0\n",
        "  for i in range(0,len(a)):\n",
        "    r=0\n",
        "    for j in range(i+1,len(a)):\n",
        "      if i!=j:\n",
        "        if a[i]!=a[j]:\n",
        "          pass\n",
        "        else:\n",
        "          r=r+1\n",
        "    if(r>0):\n",
        "      s=s+1\n",
        "    else:\n",
        "      pass\n",
        "  print(\"Number of repeating numbers\",s)\n",
        "security()"
      ],
      "metadata": {
        "colab": {
          "base_uri": "https://localhost:8080/"
        },
        "id": "8IL5dvcIGhot",
        "outputId": "4baeec46-c8e0-4d43-f840-55156077a671"
      },
      "execution_count": null,
      "outputs": [
        {
          "output_type": "stream",
          "name": "stdout",
          "text": [
            "Enter the number578378923\n",
            "Count 9\n",
            "[3, 2, 9, 8, 7, 3, 8, 7, 5]\n",
            "Number of repeating numbers 3\n"
          ]
        }
      ]
    },
    {
      "cell_type": "code",
      "source": [
        "# Second largest\n",
        "def slargest():\n",
        "  s=[3,8,1,10,5]\n",
        "  max=s[0]\n",
        "  for i in range(0,len(s)):\n",
        "    if s[i]>max:\n",
        "      max=s[i]\n",
        "  print(max)\n",
        "  s.remove(max)\n",
        "  print(s)\n",
        "  max=s[0]\n",
        "  for i in range(1,len(s)):\n",
        "    if s[i]>max:\n",
        "      max=s[i]\n",
        "  print(\"Second Largest\",max)\n",
        "slargest()"
      ],
      "metadata": {
        "colab": {
          "base_uri": "https://localhost:8080/"
        },
        "id": "B-C777YcKbvs",
        "outputId": "5863f0a5-bea7-4911-aca6-0822d3030fef"
      },
      "execution_count": null,
      "outputs": [
        {
          "output_type": "stream",
          "name": "stdout",
          "text": [
            "10\n",
            "[3, 8, 1, 5]\n",
            "Second Largest 8\n"
          ]
        }
      ]
    },
    {
      "cell_type": "code",
      "source": [
        "#Third Largest\n",
        "def tlargest(n):\n",
        "  s=[3,8,1,10,5]\n",
        "  a=[]\n",
        "  for i in range(0,n):\n",
        "    max=s[0]\n",
        "    for j in range(0,len(s)):\n",
        "      if s[j]>max:\n",
        "        max=s[j]\n",
        "    #a.append(max)\n",
        "    s.remove(max)\n",
        "  print(max)\n",
        "num=int(input(\"enter the kth largest number to be found\"))\n",
        "tlargest(num)"
      ],
      "metadata": {
        "id": "recE65xBNSeg",
        "colab": {
          "base_uri": "https://localhost:8080/"
        },
        "outputId": "9ec2bad7-88ae-4067-e90d-3ae5e5c451d4"
      },
      "execution_count": null,
      "outputs": [
        {
          "output_type": "stream",
          "name": "stdout",
          "text": [
            "enter the kth largest number to be found3\n",
            "5\n"
          ]
        }
      ]
    },
    {
      "cell_type": "code",
      "source": [
        "# Kth smallest\n",
        "def ksmallest(n):\n",
        "  s=[5,2,8,3,1,9,4]\n",
        "  a=[]\n",
        "  for i in range(0,n):\n",
        "    min=s[0]\n",
        "    for j in range(0,len(s)):\n",
        "      if s[j]<min:\n",
        "        min=s[j]\n",
        "    #a.append(max)\n",
        "    s.remove(min)\n",
        "  print(\"Smallest\",min)\n",
        "num=int(input(\"enter the number\"))\n",
        "ksmallest(num)"
      ],
      "metadata": {
        "colab": {
          "base_uri": "https://localhost:8080/"
        },
        "id": "3g4ZcvNmkIPc",
        "outputId": "4de28e1f-16cf-4195-9c48-dd4fc9d4c937"
      },
      "execution_count": null,
      "outputs": [
        {
          "output_type": "stream",
          "name": "stdout",
          "text": [
            "enter the number3\n",
            "Smallest 3\n"
          ]
        }
      ]
    },
    {
      "cell_type": "code",
      "source": [
        "#Permutation\n",
        "from itertools import permutations\n",
        "def generate_permutations(number):\n",
        "  number_str=str(number)\n",
        "  perm = permutations(number_str)\n",
        "  perm_list = [''.join(p) for p in perm]\n",
        "  return perm_list\n",
        "\n",
        "n=int(input(\"Enter the number\"))\n",
        "l=list(map(int,generate_permutations(n))) #for converting\n",
        "n2=int(input(\"enter the comparing number\"))\n",
        "l2=[]\n",
        "print(\"Permuted list\",l)\n",
        "for i in range(0,len(l)):\n",
        "  if l[i]>n2:\n",
        "    l2.append(l[i])\n",
        "  else:\n",
        "    pass\n",
        "min=l2[0]\n",
        "for i in range(0,len(l2)):\n",
        "  if l2[i]<min:\n",
        "    min=l2\n",
        "print(\"List of numbers greater than 500\",l2)\n",
        "print(\"Minimum number in above list\",min)"
      ],
      "metadata": {
        "colab": {
          "base_uri": "https://localhost:8080/"
        },
        "id": "a_soRdYnnBMM",
        "outputId": "a78541dd-4cf3-4245-a2a8-99be5a6e9df0"
      },
      "execution_count": null,
      "outputs": [
        {
          "output_type": "stream",
          "name": "stdout",
          "text": [
            "Enter the number459\n",
            "enter the comparing number459\n",
            "Permuted list [459, 495, 549, 594, 945, 954]\n",
            "List of numbers greater than 500 [495, 549, 594, 945, 954]\n",
            "Minimum number in above list 495\n"
          ]
        }
      ]
    }
  ]
}