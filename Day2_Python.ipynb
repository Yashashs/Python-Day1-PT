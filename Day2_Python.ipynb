{
  "nbformat": 4,
  "nbformat_minor": 0,
  "metadata": {
    "colab": {
      "provenance": []
    },
    "kernelspec": {
      "name": "python3",
      "display_name": "Python 3"
    },
    "language_info": {
      "name": "python"
    }
  },
  "cells": [
    {
      "cell_type": "code",
      "execution_count": null,
      "metadata": {
        "colab": {
          "base_uri": "https://localhost:8080/"
        },
        "id": "iPCodM6gG4qm",
        "outputId": "446f48c8-c982-4c8d-9b22-bbcc3fe7f9b1"
      },
      "outputs": [
        {
          "output_type": "stream",
          "name": "stdout",
          "text": [
            "1\n",
            "2\n",
            "3\n",
            "4\n",
            "6\n",
            "7\n",
            "8\n",
            "9\n",
            "10\n"
          ]
        }
      ],
      "source": [
        "for i in range(1,11):\n",
        "  if i==5:\n",
        "    continue;\n",
        "  print(i)"
      ]
    },
    {
      "cell_type": "code",
      "source": [
        "#pattern\n",
        "j=10\n",
        "for i in range(1,6):\n",
        "  if(i==3):\n",
        "    j=j-1\n",
        "    continue;\n",
        "  print(i,\"\\t\",j)\n",
        "  j=j-1"
      ],
      "metadata": {
        "colab": {
          "base_uri": "https://localhost:8080/"
        },
        "id": "qrrbpMw4IfdD",
        "outputId": "cf2b13e3-bd74-4aed-a332-6d5d645b5123"
      },
      "execution_count": null,
      "outputs": [
        {
          "output_type": "stream",
          "name": "stdout",
          "text": [
            "1 \t 10\n",
            "2 \t 9\n",
            "4 \t 7\n",
            "5 \t 6\n"
          ]
        }
      ]
    },
    {
      "cell_type": "code",
      "source": [
        "#Star Pattern\n",
        "for i in range(1,5):\n",
        "  for j in range(1,5):\n",
        "    print(i,end=\" \")\n",
        "  print()"
      ],
      "metadata": {
        "colab": {
          "base_uri": "https://localhost:8080/"
        },
        "id": "Tuzr0NV2L-M5",
        "outputId": "7ccbacf5-58fe-435a-905d-389144fde75e"
      },
      "execution_count": null,
      "outputs": [
        {
          "output_type": "stream",
          "name": "stdout",
          "text": [
            "1 1 1 1 \n",
            "2 2 2 2 \n",
            "3 3 3 3 \n",
            "4 4 4 4 \n"
          ]
        }
      ]
    },
    {
      "cell_type": "code",
      "source": [
        "n=1\n",
        "for i in range(1,5):\n",
        "  for j in range(1,5):\n",
        "    print(n,end=\" \")\n",
        "    n=n+1\n",
        "  print()"
      ],
      "metadata": {
        "colab": {
          "base_uri": "https://localhost:8080/"
        },
        "id": "D0AfSpFwMM2O",
        "outputId": "cc6bf008-6455-4df0-d011-73727c73cbdd"
      },
      "execution_count": null,
      "outputs": [
        {
          "output_type": "stream",
          "name": "stdout",
          "text": [
            "1 2 3 4 \n",
            "5 6 7 8 \n",
            "9 10 11 12 \n",
            "13 14 15 16 \n"
          ]
        }
      ]
    },
    {
      "cell_type": "code",
      "source": [
        "n=65\n",
        "for i in range(1,5):\n",
        "  for j in range(1,5):\n",
        "    print(chr(n),end=\" \")\n",
        "    n=n+1\n",
        "  print()"
      ],
      "metadata": {
        "colab": {
          "base_uri": "https://localhost:8080/"
        },
        "id": "2dWzO-2dMtme",
        "outputId": "8c048e3f-b44f-45c8-bc34-30b03979eb78"
      },
      "execution_count": null,
      "outputs": [
        {
          "output_type": "stream",
          "name": "stdout",
          "text": [
            "A B C D \n",
            "E F G H \n",
            "I J K L \n",
            "M N O P \n"
          ]
        }
      ]
    },
    {
      "cell_type": "code",
      "source": [
        "for i in range(1,5):\n",
        "  for j in range(1,i+1):\n",
        "    print(i,end=\" \")\n",
        "  print()"
      ],
      "metadata": {
        "colab": {
          "base_uri": "https://localhost:8080/"
        },
        "id": "dsvJRcGaNWhL",
        "outputId": "5e16e09b-5409-456f-81cd-cf0a6779cec0"
      },
      "execution_count": null,
      "outputs": [
        {
          "output_type": "stream",
          "name": "stdout",
          "text": [
            "1 \n",
            "2 2 \n",
            "3 3 3 \n",
            "4 4 4 4 \n"
          ]
        }
      ]
    },
    {
      "cell_type": "code",
      "source": [
        "s=4\n",
        "for i in range(1,5):\n",
        "  for j in range(s):\n",
        "    print(\"*\",end=\" \")\n",
        "  s=s-1\n",
        "  print()"
      ],
      "metadata": {
        "colab": {
          "base_uri": "https://localhost:8080/"
        },
        "id": "4LYg_z_lOX-f",
        "outputId": "b5af696a-3fb0-4690-941f-92c10f4e98d1"
      },
      "execution_count": null,
      "outputs": [
        {
          "output_type": "stream",
          "name": "stdout",
          "text": [
            "* * * * \n",
            "* * * \n",
            "* * \n",
            "* \n"
          ]
        }
      ]
    },
    {
      "cell_type": "code",
      "source": [
        "sp=0\n",
        "for i in range(1,5):\n",
        "  for j in range(sp):\n",
        "    print(\" \",end=\" \")\n",
        "  for k in range(4,i-1,-1):\n",
        "    print(\"*\",end=\" \")\n",
        "  print()\n",
        "  sp=sp+1"
      ],
      "metadata": {
        "colab": {
          "base_uri": "https://localhost:8080/"
        },
        "id": "U2bDG524P79T",
        "outputId": "bf414023-62c2-4b5e-b0d2-3ac21310d84e"
      },
      "execution_count": null,
      "outputs": [
        {
          "output_type": "stream",
          "name": "stdout",
          "text": [
            "* * * * \n",
            "  * * * \n",
            "    * * \n",
            "      * \n"
          ]
        }
      ]
    },
    {
      "cell_type": "code",
      "source": [
        "sp=5\n",
        "for i in range(1,5):\n",
        "  for k in range(sp):\n",
        "    print(\" \",end=\" \")\n",
        "  for j in range(1,i+1):\n",
        "    print(\"*\",end=\" \")\n",
        "  print()\n",
        "  sp=sp-1"
      ],
      "metadata": {
        "colab": {
          "base_uri": "https://localhost:8080/"
        },
        "id": "mqaKO8iePNQS",
        "outputId": "94a054e8-f62e-4b08-b28e-9e9caae80995"
      },
      "execution_count": null,
      "outputs": [
        {
          "output_type": "stream",
          "name": "stdout",
          "text": [
            "          * \n",
            "        * * \n",
            "      * * * \n",
            "    * * * * \n"
          ]
        }
      ]
    },
    {
      "cell_type": "code",
      "source": [
        "s=\"abcabcabcabcacadda\"\n",
        "print(s.count('a'))\n",
        "print(s.count('ab'))\n",
        "print(s.count('a',3,10))"
      ],
      "metadata": {
        "id": "v2o2uuWiTWXj",
        "colab": {
          "base_uri": "https://localhost:8080/"
        },
        "outputId": "74fd9394-f4b5-408c-c32b-723624c4cdc5"
      },
      "execution_count": null,
      "outputs": [
        {
          "output_type": "stream",
          "name": "stdout",
          "text": [
            "7\n",
            "4\n",
            "3\n"
          ]
        }
      ]
    },
    {
      "cell_type": "code",
      "source": [
        "s=\"Learning Python is very difficult from Ashish Sir\"\n",
        "s1=s.replace(\"difficult\",\"easy\")\n",
        "print(s1)"
      ],
      "metadata": {
        "colab": {
          "base_uri": "https://localhost:8080/"
        },
        "id": "ZAGSWU86VzuX",
        "outputId": "aa49b012-a6de-4ba8-d400-90b517c538ad"
      },
      "execution_count": null,
      "outputs": [
        {
          "output_type": "stream",
          "name": "stdout",
          "text": [
            "Learning Python is very easy from Ashish Sir\n"
          ]
        }
      ]
    },
    {
      "cell_type": "code",
      "source": [
        "#immutable - cannot be changed in same memory\n",
        "s=\"Learning Python is very easy from Ashish Sir\"\n",
        "l=s.split()\n",
        "print(l)\n",
        "print(type(l))\n",
        "for x in l:\n",
        "  print(x)"
      ],
      "metadata": {
        "colab": {
          "base_uri": "https://localhost:8080/"
        },
        "id": "AfehKh8GWabn",
        "outputId": "215aa433-dbec-4080-c811-c4195e9c1c9f"
      },
      "execution_count": null,
      "outputs": [
        {
          "output_type": "stream",
          "name": "stdout",
          "text": [
            "['Learning', 'Python', 'is', 'very', 'easy', 'from', 'Ashish', 'Sir']\n",
            "<class 'list'>\n",
            "Learning\n",
            "Python\n",
            "is\n",
            "very\n",
            "easy\n",
            "from\n",
            "Ashish\n",
            "Sir\n"
          ]
        }
      ]
    },
    {
      "cell_type": "code",
      "source": [
        "s=\"22#02#2022\"\n",
        "l=s.split(\"#\")\n",
        "print(l)\n",
        "print(type(l))\n",
        "for x in l:\n",
        "  print(x)"
      ],
      "metadata": {
        "colab": {
          "base_uri": "https://localhost:8080/"
        },
        "id": "YjNYpGUGYg5L",
        "outputId": "7774049b-ce9f-404f-d285-4dd1cc9d5bfd"
      },
      "execution_count": null,
      "outputs": [
        {
          "output_type": "stream",
          "name": "stdout",
          "text": [
            "['22', '02', '2022']\n",
            "<class 'list'>\n",
            "22\n",
            "02\n",
            "2022\n"
          ]
        }
      ]
    },
    {
      "cell_type": "code",
      "source": [
        "l=[\"Nagpur\",\"Pune\",\"Mumbai\",\"Delhi\"]\n",
        "s=':'.join(l)\n",
        "print(s)"
      ],
      "metadata": {
        "colab": {
          "base_uri": "https://localhost:8080/"
        },
        "id": "HY7JM-AXZEpn",
        "outputId": "7406bbf9-9a58-4a1c-e985-336c5b9055c2"
      },
      "execution_count": null,
      "outputs": [
        {
          "output_type": "stream",
          "name": "stdout",
          "text": [
            "Nagpur:Pune:Mumbai:Delhi\n"
          ]
        }
      ]
    },
    {
      "cell_type": "code",
      "source": [
        "s=\"Learning Python is very easy from Ashish Sir\"\n",
        "print(s.startswith('Learning'))\n",
        "print(s.endswith('learning'))\n",
        "print(s.endswith('sir'))"
      ],
      "metadata": {
        "colab": {
          "base_uri": "https://localhost:8080/"
        },
        "id": "LVAYr5qcZ0Cy",
        "outputId": "5e90f480-e6d3-45c5-ca77-04fdf9075625"
      },
      "execution_count": null,
      "outputs": [
        {
          "output_type": "stream",
          "name": "stdout",
          "text": [
            "True\n",
            "False\n",
            "False\n"
          ]
        }
      ]
    },
    {
      "cell_type": "code",
      "source": [
        "mb=(input(\"Enter mobile number\"))\n",
        "if(len(mb)==10):\n",
        "  if(mb.isdigit()):\n",
        "    if(mb.startswith('6') or mb.startswith('7') or mb.startswith('8') or mb.startswith('9')):\n",
        "      print(\"valid Mobile Number\")\n",
        "    else:\n",
        "      print(\"Not Indian\")\n",
        "  else:\n",
        "    print(\"Not digit\")\n",
        "else:\n",
        "  print(\"not length 10\")"
      ],
      "metadata": {
        "colab": {
          "base_uri": "https://localhost:8080/"
        },
        "id": "lPV5uODWacIf",
        "outputId": "e911f4a5-4804-4af4-f655-bcfe57f3f065"
      },
      "execution_count": null,
      "outputs": [
        {
          "output_type": "stream",
          "name": "stdout",
          "text": [
            "Enter mobile number7387514174\n",
            "valid Mobile Number\n"
          ]
        }
      ]
    },
    {
      "cell_type": "code",
      "source": [
        "#reverse\n",
        "s=input(\"Enter String\")\n",
        "print(''.join(reversed(s)))\n"
      ],
      "metadata": {
        "colab": {
          "base_uri": "https://localhost:8080/"
        },
        "id": "nBdXEzZqdc6N",
        "outputId": "7f3044de-33cb-4772-9d56-8742dce9b695"
      },
      "execution_count": null,
      "outputs": [
        {
          "output_type": "stream",
          "name": "stdout",
          "text": [
            "Enter Stringyashas\n",
            "sahsay\n"
          ]
        }
      ]
    },
    {
      "cell_type": "code",
      "source": [
        "#Reverse the string without using string\n",
        "s=input(\"Enter String\")\n",
        "rev=\"\"\n",
        "for x in s:\n",
        "  rev=x+rev\n",
        "print(rev)"
      ],
      "metadata": {
        "colab": {
          "base_uri": "https://localhost:8080/"
        },
        "id": "xE9C73Jod-Jy",
        "outputId": "0bea00f8-8f1e-4116-c87c-356af9462518"
      },
      "execution_count": null,
      "outputs": [
        {
          "output_type": "stream",
          "name": "stdout",
          "text": [
            "Enter Stringyashas\n",
            "sahsay\n"
          ]
        }
      ]
    },
    {
      "cell_type": "code",
      "source": [
        "st=\"Learning python is very Easy from Ashish Sir\"\n",
        "out=[]\n",
        "l=st.split()\n",
        "print(l)\n",
        "x=len(l)-1\n",
        "print(x)\n",
        "while x>=0:\n",
        "  out.append(l[x])\n",
        "  x=x-1\n",
        "print(out)\n",
        "print(' '.join(out))"
      ],
      "metadata": {
        "colab": {
          "base_uri": "https://localhost:8080/"
        },
        "id": "ahmfJPulfM7n",
        "outputId": "2fd8acb1-a878-439f-bd02-bc0625e3796e"
      },
      "execution_count": null,
      "outputs": [
        {
          "output_type": "stream",
          "name": "stdout",
          "text": [
            "['Learning', 'python', 'is', 'very', 'Easy', 'from', 'Ashish', 'Sir']\n",
            "7\n",
            "['Sir', 'Ashish', 'from', 'Easy', 'very', 'is', 'python', 'Learning']\n",
            "Sir Ashish from Easy very is python Learning\n"
          ]
        }
      ]
    },
    {
      "cell_type": "code",
      "source": [
        "s=input(\"Enter any string\")\n",
        "l=s.split()\n",
        "l1=[]\n",
        "i=0\n",
        "while i<len(l):\n",
        "  l1.append(l[i][::-1])\n",
        "  i=i+1\n",
        "  output=' '.join(l1)\n",
        "print(output)"
      ],
      "metadata": {
        "colab": {
          "base_uri": "https://localhost:8080/"
        },
        "id": "QBlFM4eKhtUm",
        "outputId": "744e5464-2acb-44bc-8d1f-14fd759a14a6"
      },
      "execution_count": null,
      "outputs": [
        {
          "output_type": "stream",
          "name": "stdout",
          "text": [
            "Enter any stringLearning from python is very Easy from Ashish Sir\n",
            "gninraeL morf nohtyp si yrev ysaE morf hsihsA riS\n"
          ]
        }
      ]
    },
    {
      "cell_type": "code",
      "source": [
        "s=input(\"Enter String\")\n",
        "l=[]\n",
        "for x in s:\n",
        "  if x not in l:\n",
        "    l.append(x)\n",
        "    output=''.join(l)\n",
        "print(output)"
      ],
      "metadata": {
        "colab": {
          "base_uri": "https://localhost:8080/"
        },
        "id": "AMH7cxg2i8y5",
        "outputId": "aeb499d4-b054-40ed-bf31-7d627ca81b27"
      },
      "execution_count": null,
      "outputs": [
        {
          "output_type": "stream",
          "name": "stdout",
          "text": [
            "Enter Stringaaddbbcc\n",
            "adbc\n"
          ]
        }
      ]
    },
    {
      "cell_type": "code",
      "source": [
        "order1=[\"chicken\",\"Mutton\",\"Fish\"]\n",
        "order2=[\"PEPSI\",\"COKE\",\"DEW\"]\n",
        "order1.extend(order2)\n",
        "print(order1)"
      ],
      "metadata": {
        "colab": {
          "base_uri": "https://localhost:8080/"
        },
        "id": "SjktWS89nztx",
        "outputId": "bc629291-89a1-442c-9682-b8bb28ff2815"
      },
      "execution_count": null,
      "outputs": [
        {
          "output_type": "stream",
          "name": "stdout",
          "text": [
            "['chicken', 'Mutton', 'Fish', 'PEPSI', 'COKE', 'DEW']\n"
          ]
        }
      ]
    },
    {
      "cell_type": "code",
      "source": [
        "n1=[10,20,10,30]\n",
        "n2=[2,42,4,24,2]\n",
        "res=n1+n2\n",
        "res1=n1*3\n",
        "print(res)\n",
        "print(res1)"
      ],
      "metadata": {
        "colab": {
          "base_uri": "https://localhost:8080/"
        },
        "id": "2WV6BWeG9ng9",
        "outputId": "b3ec93ce-7908-4b65-a0e4-24a2207ca1ff"
      },
      "execution_count": null,
      "outputs": [
        {
          "output_type": "stream",
          "name": "stdout",
          "text": [
            "[10, 20, 10, 30, 2, 42, 4, 24, 2]\n",
            "[10, 20, 10, 30, 10, 20, 10, 30, 10, 20, 10, 30]\n"
          ]
        }
      ]
    },
    {
      "cell_type": "code",
      "source": [
        "n=[10,20,30,[23,56,23]]\n",
        "print(n[0])\n",
        "print(n[2])\n",
        "print(n[3])\n",
        "print(n[3][0])"
      ],
      "metadata": {
        "colab": {
          "base_uri": "https://localhost:8080/"
        },
        "id": "ku58El9b90GG",
        "outputId": "626c27cd-b23a-48d2-cb99-8721cb3b1c89"
      },
      "execution_count": null,
      "outputs": [
        {
          "output_type": "stream",
          "name": "stdout",
          "text": [
            "10\n",
            "30\n",
            "[23, 56, 23]\n",
            "23\n"
          ]
        }
      ]
    },
    {
      "cell_type": "code",
      "source": [
        "n=[[10,20,30],[40,50,60],[70,80,90]]\n",
        "print(n)\n",
        "print(n[1])\n",
        "print(len(n))\n",
        "print(len(n[1]))\n",
        "for x in n:\n",
        "  print(x)\n",
        "for i in range(len(n)):\n",
        "  for j in range(len(n[i])):\n",
        "    print(n[i][j],end=\" \")\n",
        "  print()"
      ],
      "metadata": {
        "colab": {
          "base_uri": "https://localhost:8080/"
        },
        "id": "Ujk7UrnG-HzG",
        "outputId": "dc220474-feea-4b5b-ec4c-10766b60b470"
      },
      "execution_count": null,
      "outputs": [
        {
          "output_type": "stream",
          "name": "stdout",
          "text": [
            "[[10, 20, 30], [40, 50, 60], [70, 80, 90]]\n",
            "[40, 50, 60]\n",
            "3\n",
            "3\n",
            "[10, 20, 30]\n",
            "[40, 50, 60]\n",
            "[70, 80, 90]\n",
            "10 20 30 \n",
            "40 50 60 \n",
            "70 80 90 \n"
          ]
        }
      ]
    },
    {
      "cell_type": "code",
      "source": [
        "#capgemini\n",
        "n=int(input(\"Enter number of semester\"))\n",
        "s=[]\n",
        "marks=[]\n",
        "mm=[]\n",
        "for i in range(n):\n",
        "  print(\"Enter subjects in \",i+1,\"sem\")\n",
        "  sb=int(input())\n",
        "  s.append(sb)\n",
        "print(s)\n",
        "print(len(s))\n",
        "for i in range(n):\n",
        "  for j in range(s[i]):\n",
        "    print(\"Marks obtained in sbuject\",j+1,\"of semester\",i+1)\n",
        "    data=int(input())\n",
        "    marks.append(data)\n",
        "  mm.append(max(marks))\n",
        "  marks.clear()\n",
        "print(marks)\n",
        "print(mm)\n",
        "for i in range(n):\n",
        "  print(\"Maximum marks in \",i+1,\"semester\",mm[i])"
      ],
      "metadata": {
        "colab": {
          "base_uri": "https://localhost:8080/"
        },
        "id": "0MubW2Rk_G_4",
        "outputId": "1b669fff-02c8-4d1f-bb2c-d2e150e13195"
      },
      "execution_count": null,
      "outputs": [
        {
          "output_type": "stream",
          "name": "stdout",
          "text": [
            "Enter number of semester3\n",
            "Enter subjects in  1 sem\n",
            "3\n",
            "Enter subjects in  2 sem\n",
            "4\n",
            "Enter subjects in  3 sem\n",
            "2\n",
            "[3, 4, 2]\n",
            "3\n",
            "Marks obtained in sbuject 1 of semester 1\n",
            "0\n",
            "Marks obtained in sbuject 2 of semester 1\n",
            "60\n",
            "Marks obtained in sbuject 3 of semester 1\n",
            "70\n",
            "Marks obtained in sbuject 1 of semester 2\n",
            "90\n",
            "Marks obtained in sbuject 2 of semester 2\n",
            "98\n",
            "Marks obtained in sbuject 3 of semester 2\n",
            "76\n",
            "Marks obtained in sbuject 4 of semester 2\n",
            "67\n",
            "Marks obtained in sbuject 1 of semester 3\n",
            "89\n",
            "Marks obtained in sbuject 2 of semester 3\n",
            "76\n",
            "[]\n",
            "[70, 98, 89]\n",
            "Maximum marks in  1 semester 70\n",
            "Maximum marks in  2 semester 98\n",
            "Maximum marks in  3 semester 89\n"
          ]
        }
      ]
    },
    {
      "cell_type": "code",
      "source": [
        "list=[12,2,1,2,34,234,33,2,4,234,23,4,23]\n",
        "print(list)\n",
        "s=set(list)\n",
        "print(s)"
      ],
      "metadata": {
        "colab": {
          "base_uri": "https://localhost:8080/"
        },
        "id": "K8Ddg0v9Ld_I",
        "outputId": "9a9aeec5-727b-489c-94e5-39b60d408f7d"
      },
      "execution_count": null,
      "outputs": [
        {
          "output_type": "stream",
          "name": "stdout",
          "text": [
            "[12, 2, 1, 2, 34, 234, 33, 2, 4, 234, 23, 4, 23]\n",
            "{1, 2, 34, 33, 4, 234, 12, 23}\n"
          ]
        }
      ]
    },
    {
      "cell_type": "code",
      "source": [
        "d={100:'ashish',200:'Prashant',300:'sandip'}\n",
        "d[101]=\"Ashish\"\n",
        "d[102]='Raj'\n",
        "d[200]=\"sonu\"\n",
        "print(d)\n",
        "print(d[200])\n",
        "# it updates the value accordingly"
      ],
      "metadata": {
        "colab": {
          "base_uri": "https://localhost:8080/"
        },
        "id": "MB7CIPe6Lx_h",
        "outputId": "c2d40ca6-357c-4cba-dde1-3bdce233ea4c"
      },
      "execution_count": null,
      "outputs": [
        {
          "output_type": "stream",
          "name": "stdout",
          "text": [
            "{100: 'ashish', 200: 'sonu', 300: 'sandip', 101: 'Ashish', 102: 'Raj'}\n",
            "sonu\n"
          ]
        }
      ]
    },
    {
      "cell_type": "code",
      "source": [
        "rec={}\n",
        "n=int(input(\"Enter number of students\"))\n",
        "for i in range(0,n):\n",
        "  name=input(\"Enter student name: \")\n",
        "  marks=input(\"Enter % of marks of student: \")\n",
        "  rec[name]=marks\n",
        "\n",
        "print('Name\\tMarks')\n",
        "print(\"-----------\")\n",
        "for i in rec:\n",
        "  print(i , ' ',rec[i])"
      ],
      "metadata": {
        "colab": {
          "base_uri": "https://localhost:8080/"
        },
        "id": "rzhEpPYzN6Nd",
        "outputId": "36da870d-cad5-457b-ef97-f7328c4017c4"
      },
      "execution_count": null,
      "outputs": [
        {
          "output_type": "stream",
          "name": "stdout",
          "text": [
            "Enter number of students3\n",
            "Enter student name: ff\n",
            "Enter % of marks of student: 95\n",
            "Enter student name: hh\n",
            "Enter % of marks of student: 58\n",
            "Enter student name: rr\n",
            "Enter % of marks of student: 89\n",
            "Name\tMarks\n",
            "-----------\n",
            "ff   95\n",
            "hh   58\n",
            "rr   89\n"
          ]
        }
      ]
    },
    {
      "cell_type": "code",
      "source": [
        "d={100:'ashish',200:\"Prashant\",300:\"sandip\"}\n",
        "print(d[100])\n",
        "print(d.get(100))\n",
        "print(d.get(400))\n",
        "print(d.get(100,\"Guest\"))\n",
        "print(d.get(400,\"Guest\"))"
      ],
      "metadata": {
        "colab": {
          "base_uri": "https://localhost:8080/"
        },
        "id": "kC9nUZO7QGn_",
        "outputId": "72b3f73c-c0ca-417b-d1f9-28f0a83388c4"
      },
      "execution_count": null,
      "outputs": [
        {
          "output_type": "stream",
          "name": "stdout",
          "text": [
            "ashish\n",
            "ashish\n",
            "None\n",
            "ashish\n",
            "Guest\n"
          ]
        }
      ]
    },
    {
      "cell_type": "code",
      "source": [
        "d={100:'ashish',200:\"Prashant\",300:\"sandip\"}\n",
        "print(d.keys())\n",
        "for k in d.keys():\n",
        "  print(k)\n",
        "print(d.values())\n",
        "for t in d.values():\n",
        "  print(t)"
      ],
      "metadata": {
        "colab": {
          "base_uri": "https://localhost:8080/"
        },
        "id": "aHogsHCcRRw2",
        "outputId": "ce0557eb-0864-4b12-ae54-200de67148f1"
      },
      "execution_count": null,
      "outputs": [
        {
          "output_type": "stream",
          "name": "stdout",
          "text": [
            "dict_keys([100, 200, 300])\n",
            "100\n",
            "200\n",
            "300\n",
            "dict_values(['ashish', 'Prashant', 'sandip'])\n",
            "ashish\n",
            "Prashant\n",
            "sandip\n"
          ]
        }
      ]
    },
    {
      "cell_type": "code",
      "source": [
        "d={100:'ashish',200:\"Prashant\",300:\"sandip\"}\n",
        "for k,v in d.items():\n",
        "  print(k,\"---->\",v)"
      ],
      "metadata": {
        "colab": {
          "base_uri": "https://localhost:8080/"
        },
        "id": "-WobNCT3RysD",
        "outputId": "bbcb6986-0ab4-46f5-a3b3-3fea2496b78b"
      },
      "execution_count": null,
      "outputs": [
        {
          "output_type": "stream",
          "name": "stdout",
          "text": [
            "100 ----> ashish\n",
            "200 ----> Prashant\n",
            "300 ----> sandip\n"
          ]
        }
      ]
    },
    {
      "cell_type": "code",
      "source": [
        "d={}\n",
        "sum=0\n",
        "n=int(input(\"Enter number of students\"))\n",
        "for i in range(0,n):\n",
        "  name=input(\"Enter student name: \")\n",
        "  marks=int(input(\"Enter % of marks of student: \"))\n",
        "  d[name]=marks\n",
        "for i in d.keys():\n",
        "  sum=sum+d[i]\n",
        "print(\"Sum of values or marks\",sum)"
      ],
      "metadata": {
        "colab": {
          "base_uri": "https://localhost:8080/"
        },
        "id": "Th_4Rey8SExQ",
        "outputId": "7463eb25-4baf-440a-f42d-eef427418ffb"
      },
      "execution_count": null,
      "outputs": [
        {
          "output_type": "stream",
          "name": "stdout",
          "text": [
            "Enter number of students2\n",
            "Enter student name: Yashas\n",
            "Enter % of marks of student: 40\n",
            "Enter student name: Devanshu\n",
            "Enter % of marks of student: 60\n",
            "Sum of values or marks 100\n"
          ]
        }
      ]
    },
    {
      "cell_type": "code",
      "source": [
        "#Amazon\n",
        "a=[1,3,2,4]\n",
        "b=[]\n",
        "for i in range(len(a)):\n",
        "  t=0\n",
        "  for j in range(i+1,len(a)):\n",
        "    if a[j]>a[i]:\n",
        "      b.append(a[j])\n",
        "      t=1\n",
        "      break\n",
        "  if(t==0):\n",
        "    b.append(-1)\n",
        "print(b)"
      ],
      "metadata": {
        "colab": {
          "base_uri": "https://localhost:8080/"
        },
        "id": "kwgzoW7qUffA",
        "outputId": "914f5954-e136-49a9-a1c6-26b2f1de52ee"
      },
      "execution_count": null,
      "outputs": [
        {
          "output_type": "stream",
          "name": "stdout",
          "text": [
            "[3, 4, 4, -1]\n"
          ]
        }
      ]
    },
    {
      "cell_type": "code",
      "source": [
        "# check if strings are anagram or not\n",
        "s1 = input(\"Enter first string: \")\n",
        "s2 = input(\"Enter second string: \")\n",
        "s1 = s1.lower()\n",
        "s2 = s2.lower()\n",
        "print(s1)\n",
        "print(sorted(s1))\n",
        "if sorted(s1) == sorted(s2):\n",
        "  print(\"Anagram\")\n",
        "else:\n",
        "  print(\"Not Anagram\")"
      ],
      "metadata": {
        "colab": {
          "base_uri": "https://localhost:8080/"
        },
        "id": "mC6bedPMYGFw",
        "outputId": "138382ae-5fc1-4b7d-ab58-c81602bd416c"
      },
      "execution_count": null,
      "outputs": [
        {
          "output_type": "stream",
          "name": "stdout",
          "text": [
            "Enter first string: Yashas \n",
            "Enter second string: Devanshu\n",
            "yashas \n",
            "[' ', 'a', 'a', 'h', 's', 's', 'y']\n",
            "Not Anagram\n"
          ]
        }
      ]
    }
  ]
}