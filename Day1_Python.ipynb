{
  "nbformat": 4,
  "nbformat_minor": 0,
  "metadata": {
    "colab": {
      "provenance": []
    },
    "kernelspec": {
      "name": "python3",
      "display_name": "Python 3"
    },
    "language_info": {
      "name": "python"
    }
  },
  "cells": [
    {
      "cell_type": "code",
      "execution_count": null,
      "metadata": {
        "colab": {
          "base_uri": "https://localhost:8080/"
        },
        "id": "qZ2FSd65XrUs",
        "outputId": "f58ab14c-2c92-48c4-ef11-b10296c3694f"
      },
      "outputs": [
        {
          "output_type": "stream",
          "name": "stdout",
          "text": [
            "3\n",
            "3\n",
            "5\n"
          ]
        }
      ],
      "source": [
        "print(int(3.5))\n",
        "print(int(3))\n",
        "print(int(\"5\"))"
      ]
    },
    {
      "cell_type": "code",
      "source": [
        "print(float(3.5))\n",
        "print(float(\"3.5\"))\n",
        "#print(float(6+2j))\n",
        "print(float(3))\n",
        "print(float(\"5\"))"
      ],
      "metadata": {
        "colab": {
          "base_uri": "https://localhost:8080/"
        },
        "id": "otMHO4pTX8pc",
        "outputId": "42f5ff0b-d3ad-4bf1-ed62-ed8cc5364802"
      },
      "execution_count": null,
      "outputs": [
        {
          "output_type": "stream",
          "name": "stdout",
          "text": [
            "3.5\n",
            "3.5\n",
            "3.0\n",
            "5.0\n"
          ]
        }
      ]
    },
    {
      "cell_type": "code",
      "source": [
        "a=2\n",
        "b=3\n",
        "res=complex(a,b)\n",
        "print(res)\n",
        "print(complex(3))\n",
        "print(complex(True))\n",
        "print(complex(False))\n",
        "print(complex(True,True))"
      ],
      "metadata": {
        "colab": {
          "base_uri": "https://localhost:8080/"
        },
        "id": "GgrKP_H4YPvn",
        "outputId": "06e5eaf7-ac24-4c4a-f595-f0176d1a5fe2"
      },
      "execution_count": null,
      "outputs": [
        {
          "output_type": "stream",
          "name": "stdout",
          "text": [
            "(2+3j)\n",
            "(3+0j)\n",
            "(1+0j)\n",
            "0j\n",
            "(1+1j)\n"
          ]
        }
      ]
    },
    {
      "cell_type": "code",
      "source": [
        "x=\"hello learning Python is very easy!\"\n",
        "print('h' in x)\n",
        "print('d' in x)\n",
        "print('d' not in x)\n",
        "print('Python' in x)"
      ],
      "metadata": {
        "colab": {
          "base_uri": "https://localhost:8080/"
        },
        "id": "Qf16C1L3Yohy",
        "outputId": "f3cbb00a-ffe9-43bd-aaa4-86a80be0bc0a"
      },
      "execution_count": null,
      "outputs": [
        {
          "output_type": "stream",
          "name": "stdout",
          "text": [
            "True\n",
            "False\n",
            "True\n",
            "True\n"
          ]
        }
      ]
    },
    {
      "cell_type": "code",
      "source": [
        "list1=[\"ashish\",\"rahul\",\"sandip\",\"prashant\"]\n",
        "print(\"ashish\" in list1)\n",
        "print(\"sonu\" in list1)\n",
        "print(\"sonu\" not in list1)"
      ],
      "metadata": {
        "colab": {
          "base_uri": "https://localhost:8080/"
        },
        "id": "25Bb8jv9ZXnb",
        "outputId": "0d43f5be-775f-4431-b489-1de78879f11a"
      },
      "execution_count": null,
      "outputs": [
        {
          "output_type": "stream",
          "name": "stdout",
          "text": [
            "True\n",
            "False\n",
            "True\n"
          ]
        }
      ]
    },
    {
      "cell_type": "code",
      "source": [
        "import math as m\n",
        "r=5\n",
        "area=m.pi*(r**2)\n",
        "print(area)"
      ],
      "metadata": {
        "colab": {
          "base_uri": "https://localhost:8080/"
        },
        "id": "bD07ihSra3HW",
        "outputId": "0a2fe170-d237-499a-c601-b57bb7819213"
      },
      "execution_count": null,
      "outputs": [
        {
          "output_type": "stream",
          "name": "stdout",
          "text": [
            "78.53981633974483\n"
          ]
        }
      ]
    },
    {
      "cell_type": "code",
      "source": [
        "a=int(input(\"enter a value\"))\n",
        "b=int(input(\"enter b value\"))\n",
        "res=a+b\n",
        "print(\"Addition is\", res)"
      ],
      "metadata": {
        "colab": {
          "base_uri": "https://localhost:8080/"
        },
        "id": "DruRrIU6bOiB",
        "outputId": "ee1a92c2-8868-411f-cb44-4aa2819e0f13"
      },
      "execution_count": null,
      "outputs": [
        {
          "output_type": "stream",
          "name": "stdout",
          "text": [
            "enter a value5\n",
            "enter b value5\n",
            "Addition is 10\n"
          ]
        }
      ]
    },
    {
      "cell_type": "code",
      "source": [
        "print(\"Addition is\", int(input(\"enter a value\"))+\n",
        "      int(input(\"enter b value\")))"
      ],
      "metadata": {
        "colab": {
          "base_uri": "https://localhost:8080/"
        },
        "id": "epX1Gphxb-C0",
        "outputId": "7c1f226a-5448-4b4b-ef5e-07a422ac7459"
      },
      "execution_count": null,
      "outputs": [
        {
          "output_type": "stream",
          "name": "stdout",
          "text": [
            "enter a value5\n",
            "enter b value5\n",
            "Addition is 10\n"
          ]
        }
      ]
    },
    {
      "cell_type": "code",
      "source": [
        "a=eval(input(\"Enter any \"))\n",
        "print(a)"
      ],
      "metadata": {
        "colab": {
          "base_uri": "https://localhost:8080/"
        },
        "id": "rwzoi4b4cVYa",
        "outputId": "c988fae7-5f1c-4b15-b3e3-86d33bcfcd4b"
      },
      "execution_count": null,
      "outputs": [
        {
          "output_type": "stream",
          "name": "stdout",
          "text": [
            "Enter any 1+2/3*4%4\n",
            "3.6666666666666665\n"
          ]
        }
      ]
    },
    {
      "cell_type": "code",
      "source": [
        "print(\"Hello \\n World\")\n",
        "print(\"Hello \\t World\")\n",
        "print(\"Hello\"+\"World\")\n",
        "print(\"Hello\"*3)"
      ],
      "metadata": {
        "colab": {
          "base_uri": "https://localhost:8080/"
        },
        "id": "QtylgBy1dRB1",
        "outputId": "5bccc337-c562-43d1-f3dc-7085202cbdf7"
      },
      "execution_count": null,
      "outputs": [
        {
          "output_type": "stream",
          "name": "stdout",
          "text": [
            "Hello \n",
            " World\n",
            "Hello \t World\n",
            "HelloWorld\n",
            "HelloHelloHello\n"
          ]
        }
      ]
    },
    {
      "cell_type": "code",
      "source": [
        "a=10\n",
        "b=20\n",
        "c=30\n",
        "print(a,b,c)\n",
        "a,b,c=10,20,30\n",
        "print(a,b,c)\n",
        "print(a,b,c,sep=\":\")\n",
        "print(a,b,c,sep=\";\")"
      ],
      "metadata": {
        "colab": {
          "base_uri": "https://localhost:8080/"
        },
        "id": "ljPNktbceGA4",
        "outputId": "7d5e869b-dfc5-4af0-a4b6-1777ecf14e23"
      },
      "execution_count": null,
      "outputs": [
        {
          "output_type": "stream",
          "name": "stdout",
          "text": [
            "10 20 30\n",
            "10 20 30\n",
            "10:20:30\n",
            "10;20;30\n"
          ]
        }
      ]
    },
    {
      "cell_type": "code",
      "source": [
        "print(\"hello\",end=\" \")\n",
        "print(\"ashish\",end=\" \")\n",
        "print(\"sir\")"
      ],
      "metadata": {
        "colab": {
          "base_uri": "https://localhost:8080/"
        },
        "id": "e4nYnA-HeqW2",
        "outputId": "e29ec72c-13f2-457c-bd02-ae7e3ca8c34f"
      },
      "execution_count": null,
      "outputs": [
        {
          "output_type": "stream",
          "name": "stdout",
          "text": [
            "hello ashish sir\n"
          ]
        }
      ]
    },
    {
      "cell_type": "code",
      "source": [
        "a=10\n",
        "b=20\n",
        "c=30\n",
        "print(\"a value is %i\" %a)\n",
        "print(\"b vlaue is %d and c value is %d\" %(b,c))"
      ],
      "metadata": {
        "colab": {
          "base_uri": "https://localhost:8080/"
        },
        "id": "nLEMccmte32c",
        "outputId": "a158e2df-bbaf-4947-87e4-012e8df39b49"
      },
      "execution_count": null,
      "outputs": [
        {
          "output_type": "stream",
          "name": "stdout",
          "text": [
            "a value is 10\n",
            "b vlaue is 20 and c value is 30\n"
          ]
        }
      ]
    },
    {
      "cell_type": "code",
      "source": [
        "name=\"Vijay\"\n",
        "salary=30000\n",
        "company=\"TCS\"\n",
        "print(\"Hello {0} your salary is {1} and company {2}\".format(name,salary,company))\n",
        "print(\"Hello {x} your salary is {y} and company {z}\".format(x=name,y=salary,z=company))"
      ],
      "metadata": {
        "colab": {
          "base_uri": "https://localhost:8080/"
        },
        "id": "Fk9YMycifysR",
        "outputId": "96e29c07-375f-4d1a-c950-70ad334654ba"
      },
      "execution_count": null,
      "outputs": [
        {
          "output_type": "stream",
          "name": "stdout",
          "text": [
            "Hello Vijay your salary is 30000 and company TCS\n",
            "Hello Vijay your salary is 30000 and company TCS\n"
          ]
        }
      ]
    },
    {
      "cell_type": "code",
      "source": [
        "# Find last digit of number\n",
        "a=int(input(\"Enter a number\"))\n",
        "b=a%10\n",
        "print(b)"
      ],
      "metadata": {
        "colab": {
          "base_uri": "https://localhost:8080/"
        },
        "id": "8Uw5TjGGgker",
        "outputId": "3e7c9925-3129-46f1-ae0a-2367df34f2af"
      },
      "execution_count": null,
      "outputs": [
        {
          "output_type": "stream",
          "name": "stdout",
          "text": [
            "Enter a number12547\n",
            "7\n"
          ]
        }
      ]
    },
    {
      "cell_type": "code",
      "source": [
        "# Find Sum of 2 diigit number\n",
        "a=int(input(\"enter a number\"))\n",
        "n1=a%10\n",
        "n2=a//10\n",
        "res=n1+n2\n",
        "print(\"Sum of 2 digit \",res)"
      ],
      "metadata": {
        "colab": {
          "base_uri": "https://localhost:8080/"
        },
        "id": "crP80dByyNjP",
        "outputId": "9b05a3f3-2d7d-48d5-e52e-3cf44bc903a3"
      },
      "execution_count": null,
      "outputs": [
        {
          "output_type": "stream",
          "name": "stdout",
          "text": [
            "enter a number23\n",
            "Sum of 2 digit  5\n"
          ]
        }
      ]
    },
    {
      "cell_type": "code",
      "source": [
        "#find sum of 5 digit number\n",
        "no=int(input(\"Enter no\"))\n",
        "n1=no%10\n",
        "no=no//10\n",
        "n2=no%10\n",
        "no=no//10\n",
        "n3=no%10\n",
        "no=no//10\n",
        "n4=no%10\n",
        "no=no//10\n",
        "n5=no%10\n",
        "res=n1+n2+n3+n4+n5\n",
        "print(\"sum is\",res)"
      ],
      "metadata": {
        "colab": {
          "base_uri": "https://localhost:8080/"
        },
        "id": "Qh3HuCYHzqZf",
        "outputId": "e402ee9a-dda8-4b36-978b-ce46b6ab27a1"
      },
      "execution_count": null,
      "outputs": [
        {
          "output_type": "stream",
          "name": "stdout",
          "text": [
            "Enter no12345\n",
            "sum is 15\n"
          ]
        }
      ]
    },
    {
      "cell_type": "code",
      "source": [
        "#Reverse of 5 digit number\n",
        "no=int(input(\"Enter no\"))\n",
        "n1=no%10\n",
        "no=no//10\n",
        "n2=no%10\n",
        "no=no//10\n",
        "n3=no%10\n",
        "no=no//10\n",
        "n4=no%10\n",
        "no=no//10\n",
        "n5=no%10\n",
        "res=n1*10000+n2*1000+n3*100+n4*10+n5*1\n",
        "print(\"reverse is\",res)"
      ],
      "metadata": {
        "colab": {
          "base_uri": "https://localhost:8080/"
        },
        "id": "Dtw1gbgk13NR",
        "outputId": "9a716637-c197-4fff-dec2-623d873b86e1"
      },
      "execution_count": null,
      "outputs": [
        {
          "output_type": "stream",
          "name": "stdout",
          "text": [
            "Enter no12345\n",
            "reverse is 54321\n"
          ]
        }
      ]
    },
    {
      "cell_type": "code",
      "source": [
        "#Sum of last and first digit of 8 digit number\n",
        "no=int(input(\"Enter no\"))\n",
        "n1=no%10\n",
        "n2=no//100000000\n",
        "res=n1+n2\n",
        "print(\"Sum of last and first digit\",res)"
      ],
      "metadata": {
        "colab": {
          "base_uri": "https://localhost:8080/"
        },
        "id": "7f8S31S32xCJ",
        "outputId": "fae0b17b-0f7c-480d-f11a-5f97b0a216db"
      },
      "execution_count": null,
      "outputs": [
        {
          "output_type": "stream",
          "name": "stdout",
          "text": [
            "Enter no123456789\n",
            "Sum of last and first digit 10\n"
          ]
        }
      ]
    },
    {
      "cell_type": "code",
      "source": [
        "#Slicing\n",
        "s=\"ashish\"\n",
        "print(s[0])\n",
        "print(s[-1])\n",
        "print(s[0:4])\n",
        "print(s[2:4])\n",
        "print(s[:4])\n",
        "print(s[2:])\n",
        "print(s[::])\n",
        "print(s[::-1])"
      ],
      "metadata": {
        "colab": {
          "base_uri": "https://localhost:8080/"
        },
        "id": "GBVhPxPb5nb_",
        "outputId": "ef0e56d5-7b3e-4ba3-e43d-cf0d308329b8"
      },
      "execution_count": null,
      "outputs": [
        {
          "output_type": "stream",
          "name": "stdout",
          "text": [
            "a\n",
            "h\n",
            "ashi\n",
            "hi\n",
            "ashi\n",
            "hish\n",
            "ashish\n",
            "hsihsa\n"
          ]
        }
      ]
    },
    {
      "cell_type": "code",
      "source": [
        "#Accept 5 numbers and find max nummber\n",
        "n1=int(input(\"Enter a number\"))\n",
        "n2=int(input(\"Enter a number\"))\n",
        "n3=int(input(\"Enter a number\"))\n",
        "n4=int(input(\"Enter a number\"))\n",
        "n5=int(input(\"Enter a number\"))\n",
        "max=n1\n",
        "if max<n2:\n",
        "  max=n2\n",
        "if max<n3:\n",
        "  max=n3\n",
        "if max<n4:\n",
        "  max=n4\n",
        "if max<n5:\n",
        "  max=n5\n",
        "print(\"Max\",max)"
      ],
      "metadata": {
        "colab": {
          "base_uri": "https://localhost:8080/"
        },
        "id": "9exzW51Q68r8",
        "outputId": "965140be-5cb2-4831-9805-cf24a915c7bb"
      },
      "execution_count": null,
      "outputs": [
        {
          "output_type": "stream",
          "name": "stdout",
          "text": [
            "Enter a number5\n",
            "Enter a number4\n",
            "Enter a number3\n",
            "Enter a number2\n",
            "Enter a number1\n",
            "Max 5\n"
          ]
        }
      ]
    },
    {
      "cell_type": "code",
      "source": [
        "# Accept 3 paper marks\n",
        "m1=int(input(\"Enter marks 1:\"))\n",
        "m2=int(input(\"Enter marks 2:\"))\n",
        "m3=int(input(\"Enter marks 3:\"))\n",
        "g=input(\"Enter a gender:\")\n",
        "t=m1+m2+m3\n",
        "p=(t/300)*100\n",
        "print(\"percentage\",p)\n",
        "if(p>=82 and g==\"f\"):\n",
        "  print(\"She can take admission\")\n",
        "elif(p>=62 and g==\"m\"):\n",
        "  print(\"He can take admission\")\n",
        "else:\n",
        "  print(\"Cant take admission\")"
      ],
      "metadata": {
        "colab": {
          "base_uri": "https://localhost:8080/"
        },
        "id": "8Je3PDH7-As4",
        "outputId": "d0401faf-a590-4f13-b910-c31a1b8a4ead"
      },
      "execution_count": null,
      "outputs": [
        {
          "output_type": "stream",
          "name": "stdout",
          "text": [
            "Enter marks 1:70\n",
            "Enter marks 2:80\n",
            "Enter marks 3:90\n",
            "Enter a gender:m\n",
            "percentage 80.0\n",
            "He can take admission\n"
          ]
        }
      ]
    },
    {
      "cell_type": "code",
      "source": [
        "#leap year\n",
        "year=int(input(\"Enter the year\"))\n",
        "if(year%100!=100):\n",
        "  if(year%4==0):\n",
        "    print(\"leap year\")\n",
        "  else:\n",
        "    print(\"not a leap year\")\n",
        "else:\n",
        "  if(year%400==0):\n",
        "    print(\"leap year\")\n",
        "  else:\n",
        "    print(\"not leap year\")"
      ],
      "metadata": {
        "colab": {
          "base_uri": "https://localhost:8080/"
        },
        "id": "bdSwLvGHAsN0",
        "outputId": "672d0100-4af6-4dc3-f0fd-0a4d98bb2007"
      },
      "execution_count": null,
      "outputs": [
        {
          "output_type": "stream",
          "name": "stdout",
          "text": [
            "Enter the year2014\n",
            "not a leap year\n"
          ]
        }
      ]
    },
    {
      "cell_type": "code",
      "source": [
        "#TCS off campus\n",
        "cp=int(input(\"Enter the cost price\"))\n",
        "ask=input(\"are you a student??\")\n",
        "if(ask==\"yes\"):\n",
        "  if(cp>=500):\n",
        "    d=cp-cp*(10/100)\n",
        "    print(\"Discount\",d)\n",
        "  else:\n",
        "    d=cp-cp*(5/100)\n",
        "    print(\"Discount\",d)\n",
        "if(ask==\"no\"):\n",
        "  if(cp>=500):\n",
        "    d=cp-cp*(8/100)\n",
        "    print(\"Discount\",d)\n",
        "  else:\n",
        "    d=cp-cp*(2/100)\n",
        "    print(\"Discount\",d)"
      ],
      "metadata": {
        "colab": {
          "base_uri": "https://localhost:8080/"
        },
        "id": "azL-hqdJCbNQ",
        "outputId": "bfa0a239-dce9-4012-84f0-cdbf154f2478"
      },
      "execution_count": null,
      "outputs": [
        {
          "output_type": "stream",
          "name": "stdout",
          "text": [
            "Enter the cost price100\n",
            "are you a student??yes\n",
            "Discount 95.0\n"
          ]
        }
      ]
    },
    {
      "cell_type": "code",
      "source": [
        "#ASCII\n",
        "no=input(\"Enter any character \")\n",
        "no=ord(no)\n",
        "if no>=65 and no<90:\n",
        "  print(\"uppercase\")\n",
        "elif no>=97 and no<=122:\n",
        "  print(\"lowercase\")\n",
        "else:\n",
        "  print(\"Special symbol\")"
      ],
      "metadata": {
        "colab": {
          "base_uri": "https://localhost:8080/"
        },
        "id": "jQbbPV3oFrko",
        "outputId": "f1dc1d67-c729-4b5e-d703-f685dde59ad2"
      },
      "execution_count": null,
      "outputs": [
        {
          "output_type": "stream",
          "name": "stdout",
          "text": [
            "Enter any character J\n",
            "uppercase\n"
          ]
        }
      ]
    },
    {
      "cell_type": "code",
      "source": [
        "#Looping\n",
        "# we use if you want to execute a block of statements repeteadily or continuously\n",
        "\n",
        "# for loop is used when range is given\n",
        "# while loop is used when ranghe id not given\n",
        "\n",
        "#reverse a number\n",
        "no=int(input(\"Enter any number\"))\n",
        "rev=0\n",
        "while no>0:\n",
        "  rem=no%10\n",
        "  rev=rev*10+rem\n",
        "  no=no//10\n",
        "print(\"Reverse is\",rev)\n"
      ],
      "metadata": {
        "colab": {
          "base_uri": "https://localhost:8080/"
        },
        "id": "HQO28pWwHm3J",
        "outputId": "9fc5fc7e-13e5-4b48-ab46-01cae5c5aa68"
      },
      "execution_count": null,
      "outputs": [
        {
          "output_type": "stream",
          "name": "stdout",
          "text": [
            "Enter any number123\n",
            "Reverse is 321\n"
          ]
        }
      ]
    },
    {
      "cell_type": "code",
      "source": [
        "#count number of digits\n",
        "no=int(input(\"Enter a number\"))\n",
        "c=0\n",
        "while no>0:\n",
        "  no=no//10\n",
        "  c=c+1\n",
        "print(\"count is\",c)"
      ],
      "metadata": {
        "colab": {
          "base_uri": "https://localhost:8080/"
        },
        "id": "07oHrt7XLidY",
        "outputId": "1a62aacc-8eb9-49e7-ac8f-ef03b5573169"
      },
      "execution_count": null,
      "outputs": [
        {
          "output_type": "stream",
          "name": "stdout",
          "text": [
            "Enter a number12\n",
            "count is 2\n"
          ]
        }
      ]
    },
    {
      "cell_type": "code",
      "source": [
        "#sum of number of digits\n",
        "no=int(input(\"Enter a number\"))\n",
        "sum=0\n",
        "while no>0:\n",
        "  sum=sum+(no%10)\n",
        "  no=no//10\n",
        "print(\"sum is \",sum)"
      ],
      "metadata": {
        "id": "t9qp8g1CMLvv",
        "colab": {
          "base_uri": "https://localhost:8080/"
        },
        "outputId": "128a8eec-1059-41a4-ff9c-e3710827407b"
      },
      "execution_count": null,
      "outputs": [
        {
          "output_type": "stream",
          "name": "stdout",
          "text": [
            "Enter a number123\n",
            "sum is  6\n"
          ]
        }
      ]
    },
    {
      "cell_type": "code",
      "source": [
        "# Multiplication\n",
        "no=int(input(\"Enter a number\"))\n",
        "mul=1\n",
        "while no>0:\n",
        "  mul=mul*(no%10)\n",
        "  no=no//10\n",
        "print(\"Multiplication is \",mul)"
      ],
      "metadata": {
        "colab": {
          "base_uri": "https://localhost:8080/"
        },
        "id": "5KqOErZUO3_o",
        "outputId": "fc945a16-8349-4445-c8e9-7218c1856ced"
      },
      "execution_count": null,
      "outputs": [
        {
          "output_type": "stream",
          "name": "stdout",
          "text": [
            "Enter a number123\n",
            "Multiplication is  6\n"
          ]
        }
      ]
    },
    {
      "cell_type": "code",
      "source": [
        "# Factorial\n",
        "no=int(input(\"Enter a number\"))\n",
        "fact=1\n",
        "while no>0:\n",
        "  fact=fact*no\n",
        "  no=no-1\n",
        "print(\"fact\",fact)"
      ],
      "metadata": {
        "colab": {
          "base_uri": "https://localhost:8080/"
        },
        "id": "POBwhqiUPDkp",
        "outputId": "201f811d-9116-42da-a1f4-cea159b4ee26"
      },
      "execution_count": null,
      "outputs": [
        {
          "output_type": "stream",
          "name": "stdout",
          "text": [
            "Enter a number5\n",
            "fact 120\n"
          ]
        }
      ]
    },
    {
      "cell_type": "code",
      "source": [
        "#Armstrong number\n",
        "no=int(input(\"Enter any no\"))\n",
        "nsave=no;\n",
        "sum=0\n",
        "count=0\n",
        "while(no>0):\n",
        "  count=count+1\n",
        "  no=no//10\n",
        "no=nsave\n",
        "while no>0:\n",
        "  rem=no%10\n",
        "  sum=sum+(rem**count)\n",
        "  no=no//10\n",
        "if(sum==nsave):\n",
        "  print(\"armstrong\")\n",
        "else:\n",
        "  print(\"Not a armstrong number\")"
      ],
      "metadata": {
        "colab": {
          "base_uri": "https://localhost:8080/"
        },
        "id": "7vWfds5JPPvX",
        "outputId": "cc453462-bd2b-4418-e8c5-1d0828a4ed78"
      },
      "execution_count": null,
      "outputs": [
        {
          "output_type": "stream",
          "name": "stdout",
          "text": [
            "Enter any no370\n",
            "armstrong\n"
          ]
        }
      ]
    },
    {
      "cell_type": "code",
      "source": [
        "x=0\n",
        "for i in range(1, 1001):\n",
        "    no=i\n",
        "    nsave=no\n",
        "    sum=0\n",
        "    count=0\n",
        "    while no>0:\n",
        "        count=count+1s\n",
        "        no=no//10\n",
        "\n",
        "    no = nsave\n",
        "    while no > 0:\n",
        "        rem = no % 10\n",
        "        sum += rem ** count\n",
        "        no //= 10\n",
        "    if sum == i:\n",
        "        x=x+1\n",
        "        print(i)\n",
        "\n",
        "print(\"Total Armstrong numbers between 1 and 1000:\", x)\n"
      ],
      "metadata": {
        "colab": {
          "base_uri": "https://localhost:8080/"
        },
        "id": "4KGdhsA-VxsB",
        "outputId": "0da2fcf1-8e5f-4522-9954-6b253b9b6c52"
      },
      "execution_count": null,
      "outputs": [
        {
          "output_type": "stream",
          "name": "stdout",
          "text": [
            "1\n",
            "2\n",
            "3\n",
            "4\n",
            "5\n",
            "6\n",
            "7\n",
            "8\n",
            "9\n",
            "153\n",
            "370\n",
            "371\n",
            "407\n",
            "Total Armstrong numbers between 1 and 1000: 13\n"
          ]
        }
      ]
    },
    {
      "cell_type": "code",
      "source": [
        "#petersone number\n",
        "n=int(input(\"Enter a number\"))\n",
        "no=n\n",
        "sum=0\n",
        "while no>0:\n",
        "  rem=no%10\n",
        "  fact=1\n",
        "  while rem>0:\n",
        "    fact=fact*rem\n",
        "    rem=rem-1\n",
        "  sum=sum+fact\n",
        "  no=no//10\n",
        "if(sum==n):\n",
        "  print(\"Petersone\")\n",
        "else:\n",
        "  print(\"Not Petersone\")"
      ],
      "metadata": {
        "colab": {
          "base_uri": "https://localhost:8080/"
        },
        "id": "vn8SNpxbRpFk",
        "outputId": "fb92c96f-d9cd-485e-fdcb-f4b45316be7c"
      },
      "execution_count": null,
      "outputs": [
        {
          "output_type": "stream",
          "name": "stdout",
          "text": [
            "Enter a number145\n",
            "Petersone\n"
          ]
        }
      ]
    },
    {
      "cell_type": "code",
      "source": [
        "# Tech Number\n",
        "n=int(input(\"Enter any number\"))\n",
        "count = 0\n",
        "while n > 0:\n",
        "  count=count+1\n",
        "  n=n//10\n",
        "if(count%2==0):\n",
        "  temp = 10**(count/2)\n",
        "else:\n",
        "  print(\"Not a tech number\")\n",
        "no=n\n",
        "n1=no//temp\n",
        "n2=no%temp\n",
        "n3=(n2+n1)**2\n",
        "if(n3==n):\n",
        "  print(\"Tech number\")"
      ],
      "metadata": {
        "id": "IB1jMVDkVWao",
        "colab": {
          "base_uri": "https://localhost:8080/"
        },
        "outputId": "0bfb5012-826d-4c47-ba03-746b33ce2aa2"
      },
      "execution_count": null,
      "outputs": [
        {
          "output_type": "stream",
          "name": "stdout",
          "text": [
            "Enter any number2025\n",
            "Tech number\n"
          ]
        }
      ]
    }
  ]
}